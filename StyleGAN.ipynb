{
  "nbformat": 4,
  "nbformat_minor": 0,
  "metadata": {
    "colab": {
      "name": "StyleGAN.ipynb",
      "provenance": [],
      "collapsed_sections": [],
      "authorship_tag": "ABX9TyNLA3+Fgmwg3Y5LtDK87wsf",
      "include_colab_link": true
    },
    "kernelspec": {
      "name": "python3",
      "display_name": "Python 3"
    },
    "language_info": {
      "name": "python"
    }
  },
  "cells": [
    {
      "cell_type": "markdown",
      "metadata": {
        "id": "view-in-github",
        "colab_type": "text"
      },
      "source": [
        "<a href=\"https://colab.research.google.com/github/AbigailMRod/GANsDL.AI/blob/main/StyleGAN.ipynb\" target=\"_parent\"><img src=\"https://colab.research.google.com/assets/colab-badge.svg\" alt=\"Open In Colab\"/></a>"
      ]
    },
    {
      "cell_type": "markdown",
      "source": [
        "# Componentes de StyleGAN\n",
        "\n",
        "En este cuaderno, se implementarán varios componentes de StyleGAN, incluido el truco de truncamiento, la capa de mapeo, la inyección de ruido, la normalización de instancia adaptativa (AdaIN) y el crecimiento progresivo.\n",
        "\n"
      ],
      "metadata": {
        "id": "Yt0g6JrqX7po"
      }
    },
    {
      "cell_type": "markdown",
      "source": [
        "## Empezando\n",
        "Comenzará importando algunos paquetes de PyTorch y definiendo una función de visualización que será útil más adelante."
      ],
      "metadata": {
        "id": "SIQw4lojYGuk"
      }
    },
    {
      "cell_type": "code",
      "execution_count": 1,
      "metadata": {
        "id": "N0jAdu7AX2sx"
      },
      "outputs": [],
      "source": [
        "import torch\n",
        "import torch.nn as nn\n",
        "import torch.nn.functional as F\n",
        "\n",
        "def show_tensor_images(image_tensor, num_images=16, size=(3, 64, 64), nrow=3):\n",
        "    '''\n",
        "    Función de visualización de imágenes: Dado un tensor de imágenes, número de imágenes,\n",
        "     tamaño por imagen e imágenes por fila, traza e imprime las imágenes en una cuadrícula uniforme.\n",
        "    '''\n",
        "    image_tensor = (image_tensor + 1) / 2\n",
        "    image_unflat = image_tensor.detach().cpu().clamp_(0, 1)\n",
        "    image_grid = make_grid(image_unflat[:num_images], nrow=nrow, padding=0)\n",
        "    plt.imshow(image_grid.permute(1, 2, 0).squeeze())\n",
        "    plt.axis('off')\n",
        "    plt.show()"
      ]
    },
    {
      "cell_type": "markdown",
      "source": [
        "## Truco de truncamiento\n",
        "El primer componente que implementará es el truco de truncamiento. Recuerde que esto se hace después de entrenar al modelo y cuando está muestreando hermosos resultados. El truco de truncamiento vuelve a muestrear el vector de ruido $z$ a partir de una distribución normal truncada que le permite ajustar la fidelidad/diversidad del generador. El valor de truncamiento es al menos 0, donde 1 significa que hay poco truncamiento (alta diversidad) y 0 significa que la distribución está truncada excepto la media (alta calidad/fidelidad). Este truco no es exclusivo de StyleGAN. "
      ],
      "metadata": {
        "id": "bjHh859gbJ2_"
      }
    },
    {
      "cell_type": "code",
      "source": [
        "from scipy.stats import truncnorm\n",
        "def get_truncated_noise(n_samples, z_dim, truncation):\n",
        "    '''\n",
        "    Función para crear vectores de ruido truncados: Dadas las dimensiones (n_samples, z_dim)\n",
        "     y el valor de truncamiento, crea un tensor de esa forma lleno de aleatorio\n",
        "     números de la distribución normal truncada.\n",
        "     Parámetros:\n",
        "         n_samples: el número de muestras a generar, un escalar\n",
        "         z_dim: la dimensión del vector de ruido, un escalar\n",
        "         truncation: el valor de truncamiento, un escalar no negativo\n",
        "    '''\n",
        "    #### START CODE HERE ####\n",
        "    truncated_noise = truncnorm.rvs(-truncation, truncation, size=(n_samples, z_dim))\n",
        "    #### END CODE HERE ####\n",
        "    return torch.Tensor(truncated_noise)"
      ],
      "metadata": {
        "id": "tCEC7sJNbl8u"
      },
      "execution_count": 6,
      "outputs": []
    },
    {
      "cell_type": "code",
      "source": [
        "# Probar la muestra de truncamiento\n",
        "assert tuple(get_truncated_noise(n_samples=10, z_dim=5, truncation=0.7).shape) == (10, 5)\n",
        "simple_noise = get_truncated_noise(n_samples=1000, z_dim=10, truncation=0.2)\n",
        "assert simple_noise.max() > 0.199 and simple_noise.max() < 2\n",
        "assert simple_noise.min() < -0.199 and simple_noise.min() > -0.2\n",
        "assert simple_noise.std() > 0.113 and simple_noise.std() < 0.117\n",
        "print(\"Success!\")"
      ],
      "metadata": {
        "colab": {
          "base_uri": "https://localhost:8080/"
        },
        "id": "uy0h-cg4buLW",
        "outputId": "602a9cb2-73f3-442f-d8cc-1b137ae596dd"
      },
      "execution_count": 3,
      "outputs": [
        {
          "output_type": "stream",
          "name": "stdout",
          "text": [
            "Success!\n"
          ]
        }
      ]
    },
    {
      "cell_type": "markdown",
      "source": [
        "## Asignación de $z$ → $w$\n",
        "\n",
        "El siguiente componente que debe implementar es la red de mapeo. Toma el vector de ruido, $z$, y lo asigna a un vector de ruido intermedio, $w$. Esto hace que $z$ se pueda representar en un espacio más desenredado, lo que hace que las funciones sean más fáciles de controlar más adelante.\n",
        "\n",
        "La red de mapeo en StyleGAN está compuesta por 8 capas, pero para su implementación, utilizará una red neuronal con 3 capas. Esto es para ahorrar tiempo entrenando más tarde."
      ],
      "metadata": {
        "id": "Hl4PrZlPb1iG"
      }
    },
    {
      "cell_type": "code",
      "source": [
        "class MappingLayers(nn.Module):\n",
        "    '''\n",
        "    Clase de capas de mapeo\n",
        "     Valores:\n",
        "         z_dim: la dimensión del vector de ruido, un escalar\n",
        "         hidden_dim: la dimensión interna, un escalar\n",
        "         w_dim: la dimensión del vector de ruido intermedio, un escalar\n",
        "    '''\n",
        " \n",
        "    def __init__(self, z_dim, hidden_dim, w_dim):\n",
        "        super().__init__()\n",
        "        self.mapping = nn.Sequential(\n",
        "            # Escriba una red neuronal que admita tensores de\n",
        "             # forma (n_muestras, z_dim) y salidas (n_muestras, w_dim)\n",
        "             # con una capa oculta con neuronas hidden_dim\n",
        "            #### START CODE HERE ####\n",
        "            nn.Linear(z_dim, hidden_dim),\n",
        "            nn.ReLU(),\n",
        "            nn.Linear(hidden_dim, hidden_dim),\n",
        "            nn.ReLU(),\n",
        "            nn.Linear(hidden_dim, w_dim)\n",
        "            #### END CODE HERE ####\n",
        "        )\n",
        "\n",
        "    def forward(self, noise):\n",
        "        '''\n",
        "        Función para completar un pase hacia adelante de MappingLayers:\n",
        "         Dado un tensor de ruido inicial, devuelve el tensor de ruido intermedio.\n",
        "         Parámetros:\n",
        "             noise: un tensor de ruido con dimensiones (n_samples, z_dim)\n",
        "        '''\n",
        "        return self.mapping(noise)\n",
        "    \n",
        "    def get_mapping(self):\n",
        "        return self.mapping"
      ],
      "metadata": {
        "id": "KzsEASSBcA4Q"
      },
      "execution_count": 5,
      "outputs": []
    },
    {
      "cell_type": "code",
      "source": [
        "# Test the mapping function\n",
        "map_fn = MappingLayers(10,20,30)\n",
        "assert tuple(map_fn(torch.randn(2, 10)).shape) == (2, 30)\n",
        "assert len(map_fn.mapping) > 4\n",
        "outputs = map_fn(torch.randn(1000, 10))\n",
        "assert outputs.std() > 0.05 and outputs.std() < 0.3\n",
        "assert outputs.min() > -2 and outputs.min() < 0\n",
        "assert outputs.max() < 2 and outputs.max() > 0\n",
        "layers = [str(x).replace(' ', '').replace('inplace=True', '') for x in map_fn.get_mapping()]\n",
        "assert layers == ['Linear(in_features=10,out_features=20,bias=True)', \n",
        "                  'ReLU()', \n",
        "                  'Linear(in_features=20,out_features=20,bias=True)', \n",
        "                  'ReLU()', \n",
        "                  'Linear(in_features=20,out_features=30,bias=True)']\n",
        "print(\"Success!\")"
      ],
      "metadata": {
        "colab": {
          "base_uri": "https://localhost:8080/"
        },
        "id": "bb-sUSP7do_x",
        "outputId": "26a0a0fa-7157-4b03-8457-311fa95aa5fd"
      },
      "execution_count": 7,
      "outputs": [
        {
          "output_type": "stream",
          "name": "stdout",
          "text": [
            "Success!\n"
          ]
        }
      ]
    },
    {
      "cell_type": "markdown",
      "source": [
        "## Inyección de ruido aleatorio\n",
        "A continuación, implementará la inyección de ruido aleatorio que se produce antes de cada bloque AdaIN. Para hacer esto, debe crear un tensor de ruido que tenga el mismo tamaño que el mapa de características actual (imagen).\n",
        "\n",
        "El tensor de ruido no es del todo aleatorio; se inicializa como un canal aleatorio que luego se multiplica por pesos aprendidos para cada canal en la imagen. Por ejemplo, imagine que una imagen tiene 512 canales y su alto y ancho son (4 x 4). Primero crearía una matriz de ruido aleatoria (4 x 4) con un canal. Luego, su modelo crearía 512 valores, uno para cada canal. Luego, multiplicas la matriz (4 x 4) por cada uno de estos valores. Esto crea un tensor \"aleatorio\" de 512 canales y (4 x 4) píxeles, las mismas dimensiones que la imagen. Finalmente, agrega este tensor de ruido a la imagen. Esto introduce ruido no correlacionado y pretende aumentar la diversidad en la imagen.\n",
        "\n",
        "Se generan nuevos pesos iniciales para cada nueva capa, o generador, donde se usa esta clase. Dentro de una capa, cada vez que se llama a la inyección de ruido, da otro paso con el optimizador y los pesos que usa para cada canal se optimizan (es decir, se aprenden)."
      ],
      "metadata": {
        "id": "cPnIKasmduyH"
      }
    },
    {
      "cell_type": "code",
      "source": [
        "class InjectNoise(nn.Module):\n",
        "    '''\n",
        "    Inyectar clase de ruido\n",
        "     Valores:\n",
        "         chanels: el número de canales que tiene la imagen, un escalar\n",
        "    '''\n",
        "    def __init__(self, channels):\n",
        "        super().__init__()\n",
        "        self.weight = nn.Parameter( # Usas nn.Parameter para que estos pesos puedan ser optimizados\n",
        "             # Iniciar los pesos para los canales a partir de una distribución normal aleatoria\n",
        "            #### START CODE HERE ####\n",
        "            torch.randn(1, channels, 1, 1)\n",
        "            #### END CODE HERE ####\n",
        "        )\n",
        "\n",
        "    def forward(self, image):\n",
        "        '''\n",
        "        Función para completar un pase hacia adelante de InjectNoise: Dada una imagen,\n",
        "         devuelve la imagen con ruido aleatorio añadido.\n",
        "         Parámetros:\n",
        "             image: el mapa de características de la forma (n_samples, canales, ancho, alto)\n",
        "        '''\n",
        "        \n",
        "        #### START CODE HERE ####\n",
        "        noise_shape = (image.shape[0], 1, image.shape[2], image.shape[3])\n",
        "        #### END CODE HERE ####\n",
        "        \n",
        "        noise = torch.randn(noise_shape, device=image.device) # Creates the random noise\n",
        "        return image + self.weight * noise #Se aplica a la imagen después de multiplicar por el peso de cada canal\n",
        "    \n",
        "    def get_weight(self):\n",
        "        return self.weight\n",
        "\n",
        "    def get_self(self):\n",
        "        return self"
      ],
      "metadata": {
        "id": "O2hU_0IHdups"
      },
      "execution_count": 8,
      "outputs": []
    },
    {
      "cell_type": "code",
      "source": [
        "# UNIT TEST\n",
        "test_noise_channels = 3000\n",
        "test_noise_samples = 20\n",
        "fake_images = torch.randn(test_noise_samples, test_noise_channels, 10, 10)\n",
        "inject_noise = InjectNoise(test_noise_channels)\n",
        "assert torch.abs(inject_noise.weight.std() - 1) < 0.1\n",
        "assert torch.abs(inject_noise.weight.mean()) < 0.1\n",
        "assert type(inject_noise.get_weight()) == torch.nn.parameter.Parameter\n",
        "\n",
        "assert tuple(inject_noise.weight.shape) == (1, test_noise_channels, 1, 1)\n",
        "inject_noise.weight = nn.Parameter(torch.ones_like(inject_noise.weight))\n",
        "# Check that something changed\n",
        "assert torch.abs((inject_noise(fake_images) - fake_images)).mean() > 0.1\n",
        "# Check that the change is per-channel\n",
        "assert torch.abs((inject_noise(fake_images) - fake_images).std(0)).mean() > 1e-4\n",
        "assert torch.abs((inject_noise(fake_images) - fake_images).std(1)).mean() < 1e-4\n",
        "assert torch.abs((inject_noise(fake_images) - fake_images).std(2)).mean() > 1e-4\n",
        "assert torch.abs((inject_noise(fake_images) - fake_images).std(3)).mean() > 1e-4\n",
        "# Check that the per-channel change is roughly normal\n",
        "per_channel_change = (inject_noise(fake_images) - fake_images).mean(1).std()\n",
        "assert per_channel_change > 0.9 and per_channel_change < 1.1\n",
        "# Make sure that the weights are being used at all\n",
        "inject_noise.weight = nn.Parameter(torch.zeros_like(inject_noise.weight))\n",
        "assert torch.abs((inject_noise(fake_images) - fake_images)).mean() < 1e-4\n",
        "assert len(inject_noise.weight.shape) == 4\n",
        "print(\"Success!\")"
      ],
      "metadata": {
        "colab": {
          "base_uri": "https://localhost:8080/"
        },
        "id": "SgId3396elmS",
        "outputId": "53608638-9406-462c-a72a-7cf956a00b4d"
      },
      "execution_count": 9,
      "outputs": [
        {
          "output_type": "stream",
          "name": "stdout",
          "text": [
            "Success!\n"
          ]
        }
      ]
    },
    {
      "cell_type": "markdown",
      "source": [
        "## Normalización de instancia adaptable (AdaIN)\n",
        "El siguiente componente que implementará es AdaIN. Para aumentar el control sobre la imagen, inyecta $w$, el vector de ruido intermedio, varias veces en StyleGAN. Esto se hace transformándolo en un conjunto de parámetros de estilo e introduciendo el estilo a la imagen a través de AdaIN. Dada una imagen ($x_i$) y el vector intermedio ($w$), AdaIN toma la normalización de instancia de la imagen y la multiplica por la escala de estilo ($y_s$) y agrega el sesgo de estilo ($y_b$). Debe calcular la escala de estilo aprendible y el sesgo mediante el uso de asignaciones lineales de $w$.\n",
        "\n",
        "# $ \\text{AdaIN}(\\boldsymbol{\\mathrm{x}}_i, \\boldsymbol{\\mathrm{y}}) = \\boldsymbol{\\mathrm{y}}_{s,i} \\frac{\\boldsymbol {\\mathrm{x}}_i - \\mu(\\boldsymbol{\\mathrm{x}}_i)}{\\sigma(\\boldsymbol{\\mathrm{x}}_i)} + \\boldsymbol{\\mathrm{y}} _ {b, i} $"
      ],
      "metadata": {
        "id": "lMPivx9ReqKj"
      }
    },
    {
      "cell_type": "code",
      "source": [
        "class AdaIN(nn.Module):\n",
        "    '''\n",
        "    Clase AdaIN\n",
        "     Valores:\n",
        "         chanels: el número de canales que tiene la imagen, un escalar\n",
        "         w_dim: la dimensión del vector de ruido intermedio, un escalar\n",
        "    '''\n",
        "\n",
        "    def __init__(self, channels, w_dim):\n",
        "        super().__init__()\n",
        "\n",
        "        # Normalize the input per-dimension\n",
        "        self.instance_norm = nn.InstanceNorm2d(channels)\n",
        "\n",
        "        # Desea asignar w a un conjunto de pesos de estilo por canal.\n",
        "         # Reemplace los Ningunos con las dimensiones correctas - tenga en cuenta que\n",
        "         # ambos mapas lineales transforman un vector w en pesos de estilo\n",
        "         # correspondiente al número de canales de imagen.\n",
        "        #### START CODE HERE ####\n",
        "        self.style_scale_transform = nn.Linear(w_dim, channels)\n",
        "        self.style_shift_transform = nn.Linear(w_dim, channels)\n",
        "        #### END CODE HERE ####\n",
        "\n",
        "    def forward(self, image, w):\n",
        "        '''\n",
        "        Función para completar un pase hacia adelante de AdaIN: Dada una imagen y un vector de ruido intermedio w,\n",
        "         devuelve la imagen normalizada que ha sido escalada y desplazada por el estilo.\n",
        "         Parámetros:\n",
        "             image: el mapa de características de la forma (n_samples, canales, ancho, alto)\n",
        "             w: el vector de ruido intermedio\n",
        "        '''\n",
        "        normalized_image = self.instance_norm(image)\n",
        "        style_scale = self.style_scale_transform(w)[:, :, None, None]\n",
        "        style_shift = self.style_shift_transform(w)[:, :, None, None]\n",
        "        \n",
        "        # Calculate the transformed image\n",
        "        #### START CODE HERE ####\n",
        "        transformed_image = style_scale * normalized_image + style_shift\n",
        "        #### END CODE HERE ####\n",
        "        return transformed_image\n",
        "    \n",
        "    def get_style_scale_transform(self):\n",
        "        return self.style_scale_transform\n",
        "    \n",
        "    def get_style_shift_transform(self):\n",
        "        return self.style_shift_transform\n",
        "    \n",
        "    def get_self(self):\n",
        "        return self \n"
      ],
      "metadata": {
        "id": "UR98nMTNf6R9"
      },
      "execution_count": 10,
      "outputs": []
    },
    {
      "cell_type": "code",
      "source": [
        "w_channels = 50\n",
        "image_channels = 20\n",
        "image_size = 30\n",
        "n_test = 10\n",
        "adain = AdaIN(image_channels, w_channels)\n",
        "test_w = torch.randn(n_test, w_channels)\n",
        "assert adain.style_scale_transform(test_w).shape == adain.style_shift_transform(test_w).shape\n",
        "assert adain.style_scale_transform(test_w).shape[-1] == image_channels\n",
        "assert tuple(adain(torch.randn(n_test, image_channels, image_size, image_size), test_w).shape) == (n_test, image_channels, image_size, image_size)\n",
        "\n",
        "w_channels = 3\n",
        "image_channels = 2\n",
        "image_size = 3\n",
        "n_test = 1\n",
        "adain = AdaIN(image_channels, w_channels)\n",
        "\n",
        "adain.style_scale_transform.weight.data = torch.ones_like(adain.style_scale_transform.weight.data) / 4\n",
        "adain.style_scale_transform.bias.data = torch.zeros_like(adain.style_scale_transform.bias.data)\n",
        "adain.style_shift_transform.weight.data = torch.ones_like(adain.style_shift_transform.weight.data) / 5\n",
        "adain.style_shift_transform.bias.data = torch.zeros_like(adain.style_shift_transform.bias.data)\n",
        "test_input = torch.ones(n_test, image_channels, image_size, image_size)\n",
        "test_input[:, :, 0] = 0\n",
        "test_w = torch.ones(n_test, w_channels)\n",
        "test_output = adain(test_input, test_w)\n",
        "assert(torch.abs(test_output[0, 0, 0, 0] - 3 / 5 + torch.sqrt(torch.tensor(9 / 8))) < 1e-4)\n",
        "assert(torch.abs(test_output[0, 0, 1, 0] - 3 / 5 - torch.sqrt(torch.tensor(9 / 32))) < 1e-4)\n",
        "print(\"Success!\")"
      ],
      "metadata": {
        "colab": {
          "base_uri": "https://localhost:8080/"
        },
        "id": "JeBQeDqHgLUR",
        "outputId": "7e3ea1ac-d49d-4c0b-e5ef-f546520679b6"
      },
      "execution_count": 11,
      "outputs": [
        {
          "output_type": "stream",
          "name": "stdout",
          "text": [
            "Success!\n"
          ]
        }
      ]
    },
    {
      "cell_type": "markdown",
      "source": [
        "## Crecimiento progresivo en StyleGAN\n",
        "El componente StyleGAN final que creará es un crecimiento progresivo. Esto ayuda a StyleGAN a crear imágenes de alta resolución al duplicar gradualmente el tamaño de la imagen hasta el tamaño deseado.\n",
        "\n",
        "Comenzará creando un bloque para el generador StyleGAN. Este se compone de una capa de muestreo superior, una capa convolucional, una inyección de ruido aleatorio, una capa AdaIN y una activación."
      ],
      "metadata": {
        "id": "xQ4O1BBngOs2"
      }
    },
    {
      "cell_type": "code",
      "source": [
        "class MicroStyleGANGeneratorBlock(nn.Module):\n",
        "    '''\n",
        "    Clase de bloque generador Micro StyleGAN\n",
        "     Valores:\n",
        "         in_chan: el número de canales en la entrada, un escalar\n",
        "         out_chan: el número de canales deseados en la salida, un escalar\n",
        "         w_dim: la dimensión del vector de ruido intermedio, un escalar\n",
        "         kernel_size: el tamaño del núcleo convolutivo\n",
        "         starting_size: el tamaño de la imagen inicial\n",
        "    '''\n",
        "\n",
        "    def __init__(self, in_chan, out_chan, w_dim, kernel_size, starting_size, use_upsample=True):\n",
        "        super().__init__()\n",
        "        self.use_upsample = use_upsample\n",
        "        # Reemplace los Ningunos para:\n",
        "         # 1. Aumentar la muestra al tamaño inicial, de forma bilineal (https://pytorch.org/docs/master/generated/torch.nn.Upsample.html)\n",
        "         # 2. Cree una convolución kernel_size que tome\n",
        "         # una imagen con in_chan y genera una con out_chan (https://pytorch.org/docs/stable/generated/torch.nn.Conv2d.html)\n",
        "         # 3. Crea un objeto para inyectar ruido\n",
        "         # 4. Crea un objeto AdaIN\n",
        "         # 5. Crea una activación LeakyReLU con pendiente 0.2\n",
        "        \n",
        "        #### START CODE HERE ####\n",
        "        if self.use_upsample:\n",
        "            self.upsample = nn.Upsample((starting_size, starting_size), mode='bilinear')\n",
        "        self.conv = nn.Conv2d(in_chan, out_chan, kernel_size, padding=1) # Padding is used to maintain the image size\n",
        "        self.inject_noise = InjectNoise(out_chan)\n",
        "        self.adain = AdaIN(out_chan, w_dim)\n",
        "        self.activation = nn.LeakyReLU(0.2)\n",
        "        #### END CODE HERE ####\n",
        "\n",
        "    def forward(self, x, w):\n",
        "        '''\n",
        "        Función para completar un pase hacia adelante de MicroStyleGANGeneratorBlock: Dada una x y una w,\n",
        "         calcula un bloque generador de StyleGAN.\n",
        "         Parámetros:\n",
        "             x: la entrada en el generador, mapa de características de forma (n_muestras, canales, ancho, alto)\n",
        "             w: el vector de ruido intermedio\n",
        "        '''\n",
        "        if self.use_upsample:\n",
        "            x = self.upsample(x)\n",
        "        x = self.conv(x)\n",
        "        x = self.inject_noise(x)\n",
        "        x = self.adain(x, w)\n",
        "        x = self.activation(x)\n",
        "        return x\n",
        "\n",
        "    def get_self(self):\n",
        "        return self;"
      ],
      "metadata": {
        "id": "-2WC-sIjgXf4"
      },
      "execution_count": 12,
      "outputs": []
    },
    {
      "cell_type": "code",
      "source": [
        "test_stylegan_block = MicroStyleGANGeneratorBlock(in_chan=128, out_chan=64, w_dim=256, kernel_size=3, starting_size=8)\n",
        "test_x = torch.ones(1, 128, 4, 4)\n",
        "test_x[:, :, 1:3, 1:3] = 0\n",
        "test_w = torch.ones(1, 256)\n",
        "test_x = test_stylegan_block.upsample(test_x)\n",
        "assert tuple(test_x.shape) == (1, 128, 8, 8)\n",
        "assert torch.abs(test_x.mean() - 0.75) < 1e-4\n",
        "test_x = test_stylegan_block.conv(test_x)\n",
        "assert tuple(test_x.shape) == (1, 64, 8, 8)\n",
        "test_x = test_stylegan_block.inject_noise(test_x)\n",
        "test_x = test_stylegan_block.activation(test_x)\n",
        "assert test_x.min() < 0\n",
        "assert -test_x.min() / test_x.max() < 0.4\n",
        "test_x = test_stylegan_block.adain(test_x, test_w) \n",
        "foo = test_stylegan_block(torch.ones(10, 128, 4, 4), torch.ones(10, 256))\n",
        "\n",
        "print(\"Success!\")"
      ],
      "metadata": {
        "colab": {
          "base_uri": "https://localhost:8080/"
        },
        "id": "GytRuGTRg7C4",
        "outputId": "b4232000-d472-4247-9afd-719544363055"
      },
      "execution_count": 13,
      "outputs": [
        {
          "output_type": "stream",
          "name": "stdout",
          "text": [
            "Success!\n"
          ]
        }
      ]
    },
    {
      "cell_type": "markdown",
      "source": [
        "Ahora, puedes implementar el crecimiento progresivo.\n",
        "\n",
        "StyleGAN comienza con un tensor constante de 4 x 4 (x 512 canales) que se somete a una iteración del generador sin sobremuestreo. La salida es algo de ruido que luego se puede transformar en una imagen borrosa de 4 x 4. Aquí es donde comienza el proceso de crecimiento progresivo. El ruido de 4 x 4 se puede pasar más a través de un bloque generador con sobremuestreo para producir una salida de 8 x 8. Sin embargo, esto se hará gradualmente.\n",
        "\n",
        "Simulará el crecimiento progresivo de una imagen de 8 x 8 a una imagen de 16 x 16. En lugar de simplemente pasarlo al bloque del generador con sobremuestreo, StyleGAN entrena gradualmente al generador al nuevo tamaño mezclando una imagen que solo fue sobremuestreada. Al mezclar una imagen de 8 x 8 sobremuestreada (que es de 16 x 16) con una cantidad cada vez mayor de la salida del generador de 16 x 16, el generador es más estable a medida que se entrena progresivamente. Como tal, hará dos operaciones separadas con el ruido de 8 x 8:\n",
        "\n",
        "1. Páselo al siguiente bloque generador para crear un ruido de salida, que luego transformará en una imagen.\n",
        "2. Transfórmalo en una imagen y luego haz una muestra de 16 x 16.\n",
        "\n",
        "Ahora tendrá dos imágenes que tienen el doble de resolución que el ruido de 8 x 8. Luego, utilizando un término alfa ($\\alfa$), combina las imágenes de mayor resolución obtenidas de (1) y (2). Luego pasaría esto al discriminador y usaría la retroalimentación para actualizar los pesos de su generador. La clave aquí es que el término $\\alpha$ se incrementa gradualmente hasta que, eventualmente, solo se usa la imagen de (1), el generador. Esa es su imagen final o puede continuar este proceso para hacer una imagen de 32 x 32 o 64 x 64, 128 x 128, etc.\n",
        "\n",
        "Este micromodelo que implementará visualizará lo que genera el modelo en una etapa particular de capacitación, por un valor específico de $\\alpha$. Sin embargo, para reiterar, en la práctica, StyleGAN eliminará gradualmente la imagen muestreada aumentando el parámetro $\\alpha$ en muchos pasos de entrenamiento, haciendo este proceso repetidamente con valores alfa cada vez más grandes hasta que sea 1; en este punto, la imagen combinada se compone únicamente de la imagen del bloque generador. Este método de entrenamiento gradual del generador aumenta la estabilidad y la fidelidad del modelo.\n",
        "\n",
        "<!-- pasando un vector de ruido aleatorio en $z$ a través de la función de mapeo que escribiste para obtener $w$. Luego se pasa $w$ a través del primer bloque del generador para crear su primer ruido de salida. -->"
      ],
      "metadata": {
        "id": "UAxveKPWg_ws"
      }
    },
    {
      "cell_type": "code",
      "source": [
        "class MicroStyleGANGenerator(nn.Module):\n",
        "    '''\n",
        "    Clase de generador Micro StyleGAN\n",
        "     Valores:\n",
        "         z_dim: la dimensión del vector de ruido, un escalar\n",
        "         map_hidden_dim: la dimensión interna del mapeo, un escalar\n",
        "         w_dim: la dimensión del vector de ruido intermedio, un escalar\n",
        "         in_chan: la dimensión de la entrada constante, generalmente w_dim, un escalar\n",
        "         out_chan: el número de canales deseados en la salida, un escalar\n",
        "         kernel_size: el tamaño del núcleo convolutivo\n",
        "         hidden_chan: la dimensión interna, un escalar\n",
        "    '''\n",
        "\n",
        "    def __init__(self, \n",
        "                 z_dim, \n",
        "                 map_hidden_dim,\n",
        "                 w_dim,\n",
        "                 in_chan,\n",
        "                 out_chan, \n",
        "                 kernel_size, \n",
        "                 hidden_chan):\n",
        "        super().__init__()\n",
        "        self.map = MappingLayers(z_dim, map_hidden_dim, w_dim)\n",
        "        # Por lo general, esta constante se inicia a todos, pero iniciará a un\n",
        "         # Gaussiano para visualizar mejor el efecto de la red\n",
        "        self.starting_constant = nn.Parameter(torch.randn(1, in_chan, 4, 4))\n",
        "        self.block0 = MicroStyleGANGeneratorBlock(in_chan, hidden_chan, w_dim, kernel_size, 4, use_upsample=False)\n",
        "        self.block1 = MicroStyleGANGeneratorBlock(hidden_chan, hidden_chan, w_dim, kernel_size, 8)\n",
        "        self.block2 = MicroStyleGANGeneratorBlock(hidden_chan, hidden_chan, w_dim, kernel_size, 16)\n",
        "        # Debe tener una forma de mapear desde el ruido de salida a una imagen,\n",
        "         # para que aprenda una convolución 1x1 para transformar p. 512 canales en 3 canales\n",
        "         # (Tenga en cuenta que esto está simplificado, con recorte utilizado en el StyleGAN real)\n",
        "        self.block1_to_image = nn.Conv2d(hidden_chan, out_chan, kernel_size=1)\n",
        "        self.block2_to_image = nn.Conv2d(hidden_chan, out_chan, kernel_size=1)\n",
        "        self.alpha = 0.2\n",
        "\n",
        "    def upsample_to_match_size(self, smaller_image, bigger_image):\n",
        "        '''\n",
        "        Función para sobremuestrear una imagen al tamaño de otra: dadas dos imágenes (más pequeña y más grande),\n",
        "         sobremuestrea el primero para que tenga las mismas dimensiones que el segundo.\n",
        "         Parámetros:\n",
        "             small_image: la imagen más pequeña para aumentar la muestra\n",
        "             bigger_image: la imagen más grande cuyas dimensiones se muestrearán para\n",
        "        '''\n",
        "        return F.interpolate(smaller_image, size=bigger_image.shape[-2:], mode='bilinear')\n",
        "\n",
        "    def forward(self, noise, return_intermediate=False):\n",
        "        '''\n",
        "        Función para completar un pase hacia adelante de MicroStyleGANGenerator: Dado el ruido,\n",
        "         calcula una iteración de StyleGAN.\n",
        "         Parámetros:\n",
        "             ruido: un tensor de ruido con dimensiones (n_samples, z_dim)\n",
        "             return_intermediate: un valor booleano, verdadero para devolver las imágenes también (para pruebas) y falso en caso contrario\n",
        "        '''\n",
        "        x = self.starting_constant\n",
        "        w = self.map(noise)\n",
        "        x = self.block0(x, w)\n",
        "        x_small = self.block1(x, w) # First generator run output\n",
        "        x_small_image = self.block1_to_image(x_small)\n",
        "        x_big = self.block2(x_small, w) # Second generator run output \n",
        "        x_big_image = self.block2_to_image(x_big)\n",
        "        x_small_upsample = self.upsample_to_match_size(x_small_image, x_big_image) # Aumente la muestra de la salida de ejecución del primer generador para que tenga el mismo tamaño que la salida de ejecución del segundo generador\n",
        "         # Interpolar entre la imagen muestreada y la imagen del generador usando alfa\n",
        "        \n",
        "        #### START CODE HERE ####\n",
        "        interpolation = self.alpha * x_big_image + (1 - self.alpha) * x_small_upsample\n",
        "        #### END CODE HERE #### \n",
        "        \n",
        "        if return_intermediate:\n",
        "            return interpolation, x_small_upsample, x_big_image\n",
        "        return interpolation\n",
        " \n",
        "    def get_self(self):\n",
        "        return self;"
      ],
      "metadata": {
        "id": "GKGtdFPrhBpz"
      },
      "execution_count": 14,
      "outputs": []
    },
    {
      "cell_type": "code",
      "source": [
        "z_dim = 128\n",
        "out_chan = 3\n",
        "truncation = 0.7\n",
        "\n",
        "mu_stylegan = MicroStyleGANGenerator(\n",
        "    z_dim=z_dim, \n",
        "    map_hidden_dim=1024,\n",
        "    w_dim=496,\n",
        "    in_chan=512,\n",
        "    out_chan=out_chan, \n",
        "    kernel_size=3, \n",
        "    hidden_chan=256\n",
        ")\n",
        "\n",
        "test_samples = 10\n",
        "test_result = mu_stylegan(get_truncated_noise(test_samples, z_dim, truncation))\n",
        "\n",
        "# Check if the block works\n",
        "assert tuple(test_result.shape) == (test_samples, out_chan, 16, 16)\n",
        "\n",
        "# Check that the interpolation is correct\n",
        "mu_stylegan.alpha = 1.\n",
        "test_result, _, test_big =  mu_stylegan(\n",
        "    get_truncated_noise(test_samples, z_dim, truncation), \n",
        "    return_intermediate=True)\n",
        "assert torch.abs(test_result - test_big).mean() < 0.001\n",
        "mu_stylegan.alpha = 0.\n",
        "test_result, test_small, _ =  mu_stylegan(\n",
        "    get_truncated_noise(test_samples, z_dim, truncation), \n",
        "    return_intermediate=True)\n",
        "assert torch.abs(test_result - test_small).mean() < 0.001\n",
        "print(\"Success!\")"
      ],
      "metadata": {
        "colab": {
          "base_uri": "https://localhost:8080/"
        },
        "id": "bv7OVtsehgII",
        "outputId": "7bcd1f77-b78b-410c-9330-f6c6440ded29"
      },
      "execution_count": 15,
      "outputs": [
        {
          "output_type": "stream",
          "name": "stdout",
          "text": [
            "Success!\n"
          ]
        }
      ]
    },
    {
      "cell_type": "markdown",
      "source": [
        "## Estilo de carreraGAN\n",
        "¡Finalmente, puede juntar todos los componentes para ejecutar una iteración de su micro StyleGAN!\n",
        "\n",
        "También puede visualizar lo que puede producir este generador iniciado aleatoriamente. El código se interpolará automáticamente entre diferentes valores de alfa para que pueda ver intuitivamente lo que significa mezclar las imágenes de baja y alta resolución usando diferentes valores de alfa. En la imagen generada, las muestras parten de valores alfa bajos y van a valores alfa altos."
      ],
      "metadata": {
        "id": "tKlesmzNhjX7"
      }
    },
    {
      "cell_type": "code",
      "source": [
        "import numpy as np\n",
        "from torchvision.utils import make_grid\n",
        "import matplotlib.pyplot as plt\n",
        "plt.rcParams['figure.figsize'] = [15, 15]\n",
        "\n",
        "viz_samples = 10\n",
        "# The noise is exaggerated for visual effect\n",
        "viz_noise = get_truncated_noise(viz_samples, z_dim, truncation) * 10\n",
        "\n",
        "mu_stylegan.eval()\n",
        "images = []\n",
        "for alpha in np.linspace(0, 1, num=5):\n",
        "    mu_stylegan.alpha = alpha\n",
        "    viz_result, _, _ =  mu_stylegan(\n",
        "        viz_noise, \n",
        "        return_intermediate=True)\n",
        "    images += [tensor for tensor in viz_result]\n",
        "show_tensor_images(torch.stack(images), nrow=viz_samples, num_images=len(images))\n",
        "mu_stylegan = mu_stylegan.train()"
      ],
      "metadata": {
        "colab": {
          "base_uri": "https://localhost:8080/",
          "height": 449
        },
        "id": "3MWc9SBthnLt",
        "outputId": "241b72ca-ddaf-46e5-f3fa-9cbe7b59df71"
      },
      "execution_count": 16,
      "outputs": [
        {
          "output_type": "display_data",
          "data": {
            "text/plain": [
              "<Figure size 1080x1080 with 1 Axes>"
            ],
            "image/png": "[encoded data removed]"
          },
          "metadata": {
            "needs_background": "light"
          }
        }
      ]
    }
  ]
}