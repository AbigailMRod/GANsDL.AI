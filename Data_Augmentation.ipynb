{
  "nbformat": 4,
  "nbformat_minor": 0,
  "metadata": {
    "colab": {
      "name": "Data Augmentation.ipynb",
      "provenance": [],
      "collapsed_sections": [],
      "authorship_tag": "ABX9TyN09qqsYvg1retk9uXhlaGI",
      "include_colab_link": true
    },
    "kernelspec": {
      "name": "python3",
      "display_name": "Python 3"
    },
    "language_info": {
      "name": "python"
    },
    "accelerator": "GPU",
    "gpuClass": "standard",
    "widgets": {
      "application/vnd.jupyter.widget-state+json": {
        "80f887acb78a45e4831face329528ee6": {
          "model_module": "@jupyter-widgets/controls",
          "model_name": "HBoxModel",
          "model_module_version": "1.5.0",
          "state": {
            "_dom_classes": [],
            "_model_module": "@jupyter-widgets/controls",
            "_model_module_version": "1.5.0",
            "_model_name": "HBoxModel",
            "_view_count": null,
            "_view_module": "@jupyter-widgets/controls",
            "_view_module_version": "1.5.0",
            "_view_name": "HBoxView",
            "box_style": "",
            "children": [
              "IPY_MODEL_4ccd6d2b5df54378ac53560aa29e5b11",
              "IPY_MODEL_13b8e44115dd471d8a451670eed2c068",
              "IPY_MODEL_0780682ed0244e1caecfeb735a7d6cfd"
            ],
            "layout": "IPY_MODEL_ba92ae34f1b841659681ff9919adfc76"
          }
        },
        "4ccd6d2b5df54378ac53560aa29e5b11": {
          "model_module": "@jupyter-widgets/controls",
          "model_name": "HTMLModel",
          "model_module_version": "1.5.0",
          "state": {
            "_dom_classes": [],
            "_model_module": "@jupyter-widgets/controls",
            "_model_module_version": "1.5.0",
            "_model_name": "HTMLModel",
            "_view_count": null,
            "_view_module": "@jupyter-widgets/controls",
            "_view_module_version": "1.5.0",
            "_view_name": "HTMLView",
            "description": "",
            "description_tooltip": null,
            "layout": "IPY_MODEL_38f2812173fe43268f2564ff6f67d460",
            "placeholder": "​",
            "style": "IPY_MODEL_99a103dbf764499fb94880952521104f",
            "value": "100%"
          }
        },
        "13b8e44115dd471d8a451670eed2c068": {
          "model_module": "@jupyter-widgets/controls",
          "model_name": "FloatProgressModel",
          "model_module_version": "1.5.0",
          "state": {
            "_dom_classes": [],
            "_model_module": "@jupyter-widgets/controls",
            "_model_module_version": "1.5.0",
            "_model_name": "FloatProgressModel",
            "_view_count": null,
            "_view_module": "@jupyter-widgets/controls",
            "_view_module_version": "1.5.0",
            "_view_name": "ProgressView",
            "bar_style": "success",
            "description": "",
            "description_tooltip": null,
            "layout": "IPY_MODEL_41fe2c3efb334982b2cdb8281370c03b",
            "max": 21,
            "min": 0,
            "orientation": "horizontal",
            "style": "IPY_MODEL_134ad5e5cf7f4450b33c5c20faeb40ad",
            "value": 21
          }
        },
        "0780682ed0244e1caecfeb735a7d6cfd": {
          "model_module": "@jupyter-widgets/controls",
          "model_name": "HTMLModel",
          "model_module_version": "1.5.0",
          "state": {
            "_dom_classes": [],
            "_model_module": "@jupyter-widgets/controls",
            "_model_module_version": "1.5.0",
            "_model_name": "HTMLModel",
            "_view_count": null,
            "_view_module": "@jupyter-widgets/controls",
            "_view_module_version": "1.5.0",
            "_view_name": "HTMLView",
            "description": "",
            "description_tooltip": null,
            "layout": "IPY_MODEL_1defaa30960f471f9203d984ce2094d3",
            "placeholder": "​",
            "style": "IPY_MODEL_1e8f99a2f2af49e9a59ecd7d2d94f435",
            "value": " 21/21 [00:33&lt;00:00,  1.56s/it]"
          }
        },
        "ba92ae34f1b841659681ff9919adfc76": {
          "model_module": "@jupyter-widgets/base",
          "model_name": "LayoutModel",
          "model_module_version": "1.2.0",
          "state": {
            "_model_module": "@jupyter-widgets/base",
            "_model_module_version": "1.2.0",
            "_model_name": "LayoutModel",
            "_view_count": null,
            "_view_module": "@jupyter-widgets/base",
            "_view_module_version": "1.2.0",
            "_view_name": "LayoutView",
            "align_content": null,
            "align_items": null,
            "align_self": null,
            "border": null,
            "bottom": null,
            "display": null,
            "flex": null,
            "flex_flow": null,
            "grid_area": null,
            "grid_auto_columns": null,
            "grid_auto_flow": null,
            "grid_auto_rows": null,
            "grid_column": null,
            "grid_gap": null,
            "grid_row": null,
            "grid_template_areas": null,
            "grid_template_columns": null,
            "grid_template_rows": null,
            "height": null,
            "justify_content": null,
            "justify_items": null,
            "left": null,
            "margin": null,
            "max_height": null,
            "max_width": null,
            "min_height": null,
            "min_width": null,
            "object_fit": null,
            "object_position": null,
            "order": null,
            "overflow": null,
            "overflow_x": null,
            "overflow_y": null,
            "padding": null,
            "right": null,
            "top": null,
            "visibility": null,
            "width": null
          }
        },
        "38f2812173fe43268f2564ff6f67d460": {
          "model_module": "@jupyter-widgets/base",
          "model_name": "LayoutModel",
          "model_module_version": "1.2.0",
          "state": {
            "_model_module": "@jupyter-widgets/base",
            "_model_module_version": "1.2.0",
            "_model_name": "LayoutModel",
            "_view_count": null,
            "_view_module": "@jupyter-widgets/base",
            "_view_module_version": "1.2.0",
            "_view_name": "LayoutView",
            "align_content": null,
            "align_items": null,
            "align_self": null,
            "border": null,
            "bottom": null,
            "display": null,
            "flex": null,
            "flex_flow": null,
            "grid_area": null,
            "grid_auto_columns": null,
            "grid_auto_flow": null,
            "grid_auto_rows": null,
            "grid_column": null,
            "grid_gap": null,
            "grid_row": null,
            "grid_template_areas": null,
            "grid_template_columns": null,
            "grid_template_rows": null,
            "height": null,
            "justify_content": null,
            "justify_items": null,
            "left": null,
            "margin": null,
            "max_height": null,
            "max_width": null,
            "min_height": null,
            "min_width": null,
            "object_fit": null,
            "object_position": null,
            "order": null,
            "overflow": null,
            "overflow_x": null,
            "overflow_y": null,
            "padding": null,
            "right": null,
            "top": null,
            "visibility": null,
            "width": null
          }
        },
        "99a103dbf764499fb94880952521104f": {
          "model_module": "@jupyter-widgets/controls",
          "model_name": "DescriptionStyleModel",
          "model_module_version": "1.5.0",
          "state": {
            "_model_module": "@jupyter-widgets/controls",
            "_model_module_version": "1.5.0",
            "_model_name": "DescriptionStyleModel",
            "_view_count": null,
            "_view_module": "@jupyter-widgets/base",
            "_view_module_version": "1.2.0",
            "_view_name": "StyleView",
            "description_width": ""
          }
        },
        "41fe2c3efb334982b2cdb8281370c03b": {
          "model_module": "@jupyter-widgets/base",
          "model_name": "LayoutModel",
          "model_module_version": "1.2.0",
          "state": {
            "_model_module": "@jupyter-widgets/base",
            "_model_module_version": "1.2.0",
            "_model_name": "LayoutModel",
            "_view_count": null,
            "_view_module": "@jupyter-widgets/base",
            "_view_module_version": "1.2.0",
            "_view_name": "LayoutView",
            "align_content": null,
            "align_items": null,
            "align_self": null,
            "border": null,
            "bottom": null,
            "display": null,
            "flex": null,
            "flex_flow": null,
            "grid_area": null,
            "grid_auto_columns": null,
            "grid_auto_flow": null,
            "grid_auto_rows": null,
            "grid_column": null,
            "grid_gap": null,
            "grid_row": null,
            "grid_template_areas": null,
            "grid_template_columns": null,
            "grid_template_rows": null,
            "height": null,
            "justify_content": null,
            "justify_items": null,
            "left": null,
            "margin": null,
            "max_height": null,
            "max_width": null,
            "min_height": null,
            "min_width": null,
            "object_fit": null,
            "object_position": null,
            "order": null,
            "overflow": null,
            "overflow_x": null,
            "overflow_y": null,
            "padding": null,
            "right": null,
            "top": null,
            "visibility": null,
            "width": null
          }
        },
        "134ad5e5cf7f4450b33c5c20faeb40ad": {
          "model_module": "@jupyter-widgets/controls",
          "model_name": "ProgressStyleModel",
          "model_module_version": "1.5.0",
          "state": {
            "_model_module": "@jupyter-widgets/controls",
            "_model_module_version": "1.5.0",
            "_model_name": "ProgressStyleModel",
            "_view_count": null,
            "_view_module": "@jupyter-widgets/base",
            "_view_module_version": "1.2.0",
            "_view_name": "StyleView",
            "bar_color": null,
            "description_width": ""
          }
        },
        "1defaa30960f471f9203d984ce2094d3": {
          "model_module": "@jupyter-widgets/base",
          "model_name": "LayoutModel",
          "model_module_version": "1.2.0",
          "state": {
            "_model_module": "@jupyter-widgets/base",
            "_model_module_version": "1.2.0",
            "_model_name": "LayoutModel",
            "_view_count": null,
            "_view_module": "@jupyter-widgets/base",
            "_view_module_version": "1.2.0",
            "_view_name": "LayoutView",
            "align_content": null,
            "align_items": null,
            "align_self": null,
            "border": null,
            "bottom": null,
            "display": null,
            "flex": null,
            "flex_flow": null,
            "grid_area": null,
            "grid_auto_columns": null,
            "grid_auto_flow": null,
            "grid_auto_rows": null,
            "grid_column": null,
            "grid_gap": null,
            "grid_row": null,
            "grid_template_areas": null,
            "grid_template_columns": null,
            "grid_template_rows": null,
            "height": null,
            "justify_content": null,
            "justify_items": null,
            "left": null,
            "margin": null,
            "max_height": null,
            "max_width": null,
            "min_height": null,
            "min_width": null,
            "object_fit": null,
            "object_position": null,
            "order": null,
            "overflow": null,
            "overflow_x": null,
            "overflow_y": null,
            "padding": null,
            "right": null,
            "top": null,
            "visibility": null,
            "width": null
          }
        },
        "1e8f99a2f2af49e9a59ecd7d2d94f435": {
          "model_module": "@jupyter-widgets/controls",
          "model_name": "DescriptionStyleModel",
          "model_module_version": "1.5.0",
          "state": {
            "_model_module": "@jupyter-widgets/controls",
            "_model_module_version": "1.5.0",
            "_model_name": "DescriptionStyleModel",
            "_view_count": null,
            "_view_module": "@jupyter-widgets/base",
            "_view_module_version": "1.2.0",
            "_view_name": "StyleView",
            "description_width": ""
          }
        }
      }
    }
  },
  "cells": [
    {
      "cell_type": "markdown",
      "metadata": {
        "id": "view-in-github",
        "colab_type": "text"
      },
      "source": [
        "<a href=\"https://colab.research.google.com/github/AbigailMRod/GANsDL.AI/blob/main/Data_Augmentation.ipynb\" target=\"_parent\"><img src=\"https://colab.research.google.com/assets/colab-badge.svg\" alt=\"Open In Colab\"/></a>"
      ]
    },
    {
      "cell_type": "markdown",
      "source": [
        "#Data Augmentation"
      ],
      "metadata": {
        "id": "bHJgJpjKq-_F"
      }
    },
    {
      "cell_type": "markdown",
      "source": [
        "En este cuaderno, se construirá un generador que se puede usar para ayudar a crear datos para entrenar un clasificador. Hay muchos casos en los que esto podría ser útil. Si está interesado en alguno de estos temas, puede explorar los documentos y artículos vinculados.\n",
        "\n",
        "- Con conjuntos de datos más pequeños, las GAN pueden proporcionar un aumento de datos útil que sustancialmente [mejora el rendimiento del clasificador](https://arxiv.org/abs/1711.04340).\n",
        "- Tiene un tipo de datos ya etiquetado y le gustaría hacer predicciones sobre [otro conjunto de datos relacionado para el que no tiene etiquetas](https://www.nature.com/articles/s41598-019-52737-x). (¡Aprenderá sobre las técnicas para este caso de uso en cuadernos futuros!)\n",
        "- Quieres proteger la privacidad de las personas que proporcionaron su información para poder brindar acceso a un [generador en lugar de datos reales](https://www.ahajournals.org/doi/full/10.1161/CIRCOUTCOMES.118.005122).\n",
        "- Tiene [datos de entrada con muchos valores faltantes](https://arxiv.org/abs/1806.02920), donde las dimensiones de entrada están correlacionadas y le gustaría entrenar un modelo con entradas completas.\n",
        "- Le gustaría poder identificar una característica anormal del mundo real en una imagen [con fines de diagnóstico](https://link.springer.com/chapter/10.1007/978-3-030-00946-5_11) , pero tienen acceso limitado a ejemplos reales de la condición.\n",
        "\n"
      ],
      "metadata": {
        "id": "dILGZ9wUrK-B"
      }
    },
    {
      "cell_type": "markdown",
      "source": [
        "## Empezando\n",
        "\n",
        "### Aumento de datos\n",
        "Antes de implementar el aumento de datos basado en GAN, debe saber un poco sobre el aumento de datos en general, específicamente para conjuntos de datos de imágenes. Es una [práctica muy común](https://arxiv.org/abs/1712.04621) aumentar los conjuntos de datos basados ​​en imágenes de manera apropiada para un conjunto de datos determinado. Esto puede incluir que su cargador de datos voltee imágenes aleatoriamente a lo largo de su eje vertical, recorte aleatoriamente su imagen a un tamaño particular, agregue aleatoriamente un poco de ruido o color a una imagen de manera que sea real.\n",
        "\n",
        "En general, el aumento de datos ayuda a evitar que su modelo se ajuste demasiado a los datos y le permite hacer pequeños conjuntos de datos muchas veces más grandes. Sin embargo, un clasificador lo suficientemente poderoso a menudo aún se adapta a los ejemplos originales, razón por la cual las GAN son particularmente útiles aquí. Pueden generar nuevas imágenes en lugar de simplemente modificar las existentes.\n",
        "\n",
        "### CIFAR\n",
        "Los conjuntos de datos [CIFAR-10 y CIFAR-100](https://www.cs.toronto.edu/~kriz/learning-features-2009-TR.pdf) se utilizan de forma muy amplia en el aprendizaje automático y contienen muchos miles de imágenes pequeñas en color de 32x32 de diferentes clases que representan objetos del mundo real relativamente comunes como aviones y perros, con 10 clases en CIFAR-10 y 100 clases en CIFAR-100. En CIFAR-100, hay 20 \"superclases\" que contienen cinco clases cada una. Por ejemplo, la superclase \"peces\" contiene \"peces de acuario, peces planos, rayas, tiburones, truchas\". Para los fines de esta tarea, observará un pequeño subconjunto de estas imágenes para simular un régimen de datos pequeño, con solo 40 imágenes de cada clase para entrenamiento.\n",
        "<img src=\"https://production-media.paperswithcode.com/datasets/4fdf2b82-2bc3-4f97-ba51-400322b228b1.png\">\n"
      ],
      "metadata": {
        "id": "9zu02wWmrfow"
      }
    },
    {
      "cell_type": "markdown",
      "source": [
        "### Inicializaciones\n",
        "Comenzará importando algunas bibliotecas y paquetes útiles y definiendo una función de visualización que se ha proporcionado. También reutilizará su generador condicional y el código de funciones de asignaciones anteriores. Esto le permitirá controlar qué clase de imágenes aumentar para su clasificador."
      ],
      "metadata": {
        "id": "_0pJiWLLsV6R"
      }
    },
    {
      "cell_type": "code",
      "execution_count": null,
      "metadata": {
        "id": "L07Fl_w8q9gZ"
      },
      "outputs": [],
      "source": [
        "import torch\n",
        "import torch.nn.functional as F\n",
        "import matplotlib.pyplot as plt\n",
        "from torch import nn\n",
        "from tqdm.auto import tqdm\n",
        "from torchvision import transforms\n",
        "from torchvision.utils import make_grid\n",
        "from torch.utils.data import DataLoader\n",
        "torch.manual_seed(0) \n",
        "\n",
        "def show_tensor_images(image_tensor, num_images=25, size=(3, 32, 32), nrow=5, show=True):\n",
        "    '''\n",
        "    Función de visualización de imágenes: Dado un tensor de imágenes, número de imágenes y\n",
        "     tamaño por imagen, traza e imprime las imágenes en una cuadrícula uniforme.\n",
        "    '''\n",
        "    image_tensor = (image_tensor + 1) / 2\n",
        "    image_unflat = image_tensor.detach().cpu()\n",
        "    image_grid = make_grid(image_unflat[:num_images], nrow=nrow)\n",
        "    plt.imshow(image_grid.permute(1, 2, 0).squeeze())\n",
        "    if show:\n",
        "        plt.show()"
      ]
    },
    {
      "cell_type": "markdown",
      "source": [
        "Generador"
      ],
      "metadata": {
        "id": "XhEjkH86s5_Y"
      }
    },
    {
      "cell_type": "code",
      "source": [
        "class Generator(nn.Module):\n",
        "    '''\n",
        "    Clase de generador\n",
        "     Valores:\n",
        "         input_dim: la dimensión del vector de entrada, un escalar\n",
        "         im_chan: el número de canales de la imagen de salida, un escalar\n",
        "               (CIFAR100 está en color (rojo, verde, azul), por lo que 3 es su valor predeterminado)\n",
        "         hidden_dim: la dimensión interna, un escalar\n",
        "    '''\n",
        "    def __init__(self, input_dim=10, im_chan=3, hidden_dim=64):\n",
        "        super(Generator, self).__init__()\n",
        "        self.input_dim = input_dim\n",
        "        # Construir la red neuronal\n",
        "        self.gen = nn.Sequential(\n",
        "            self.make_gen_block(input_dim, hidden_dim * 4, kernel_size=4),\n",
        "            self.make_gen_block(hidden_dim * 4, hidden_dim * 2, kernel_size=4, stride=1),\n",
        "            self.make_gen_block(hidden_dim * 2, hidden_dim, kernel_size=4),\n",
        "            self.make_gen_block(hidden_dim, im_chan, kernel_size=2, final_layer=True),\n",
        "        )\n",
        "\n",
        "    def make_gen_block(self, input_channels, output_channels, kernel_size=3, stride=2, final_layer=False):\n",
        "        '''\n",
        "        Función para devolver una secuencia de operaciones correspondiente a un bloque generador de DCGAN;\n",
        "         una convolución transpuesta, una norma por lotes (excepto en la capa final) y una activación.\n",
        "         Parámetros:\n",
        "             input_channels: cuántos canales tiene la representación de la característica de entrada\n",
        "             output_channels: cuántos canales debe tener la representación de la característica de salida\n",
        "             kernel_size: el tamaño de cada filtro convolucional, equivalente a (kernel_size, kernel_size)\n",
        "             stride: la zancada de la convolución\n",
        "             final_layer: un valor booleano, verdadero si es la capa final y falso en caso contrario\n",
        "                       (afecta la activación y la norma de lote)\n",
        "        '''\n",
        "        if not final_layer:\n",
        "            return nn.Sequential(\n",
        "                nn.ConvTranspose2d(input_channels, output_channels, kernel_size, stride),\n",
        "                nn.BatchNorm2d(output_channels),\n",
        "                nn.ReLU(inplace=True),\n",
        "            )\n",
        "        else:\n",
        "            return nn.Sequential(\n",
        "                nn.ConvTranspose2d(input_channels, output_channels, kernel_size, stride),\n",
        "                nn.Tanh(),\n",
        "            )\n",
        "\n",
        "    def forward(self, noise):\n",
        "        '''\n",
        "        Función para completar un paso hacia adelante del generador: Dado un tensor de ruido,\n",
        "         devuelve las imágenes generadas.\n",
        "         Parámetros:\n",
        "             noise: un tensor de ruido con dimensiones (n_samples, input_dim)\n",
        "        '''\n",
        "        x = noise.view(len(noise), self.input_dim, 1, 1)\n",
        "        return self.gen(x)\n",
        "\n",
        "\n",
        "def get_noise(n_samples, input_dim, device='cpu'):\n",
        "    '''\n",
        "    Función para crear vectores de ruido: Dadas las dimensiones (n_samples, input_dim)\n",
        "     crea un tensor de esa forma lleno de números aleatorios de la distribución normal.\n",
        "     Parámetros:\n",
        "         n_samples: el número de muestras a generar, un escalar\n",
        "         input_dim: la dimensión del vector de entrada, un escalar\n",
        "         device: el tipo de dispositivo\n",
        "    '''\n",
        "    return torch.randn(n_samples, input_dim, device=device)\n",
        "\n",
        "def combine_vectors(x, y):\n",
        "    '''\n",
        "    Función para combinar dos vectores con formas (n_samples, ?) y (n_samples, ?)\n",
        "     Parámetros:\n",
        "     x: (n_muestras, ?) el primer vector.\n",
        "         En esta asignación, este será el vector de ruido de forma (n_samples, z_dim),\n",
        "         pero no debería necesitar saber el tamaño de la segunda dimensión.\n",
        "     y: (n_muestras, ?) el segundo vector.\n",
        "         Una vez más, en esta tarea, este será el vector de clase one-hot\n",
        "         con la forma (n_samples, n_classes), pero no debe asumir esto en su código.\n",
        "    '''\n",
        "    return torch.cat([x, y], 1)\n",
        "\n",
        "def get_one_hot_labels(labels, n_classes):\n",
        "    '''\n",
        "    Función para combinar dos vectores con formas (n_samples, ?) y (n_samples, ?)\n",
        "     Parámetros:\n",
        "     labels: (n_muestras, 1)\n",
        "     n_classes: un entero único correspondiente al número total de clases en el conjunto de datos\n",
        "    '''\n",
        "    return F.one_hot(labels, n_classes)"
      ],
      "metadata": {
        "id": "RhWoN6jLs7c2"
      },
      "execution_count": null,
      "outputs": []
    },
    {
      "cell_type": "markdown",
      "source": [
        "## Entrenamiento\n",
        "Ahora puede comenzar a entrenar sus modelos.\n",
        "Primero, definirá algunos parámetros nuevos:\n",
        "\n",
        "* cifar100_shape: el número de píxeles en cada imagen CIFAR, que tiene unas dimensiones de 32 x 32 y tres canales (para rojo, verde y azul), es decir, 3 x 32 x 32\n",
        "* n_classes: el número de clases en CIFAR100 (por ejemplo, avión, automóvil, pájaro, gato, ciervo, perro, rana, caballo, barco, camión)"
      ],
      "metadata": {
        "id": "BFT_XehVtc-r"
      }
    },
    {
      "cell_type": "code",
      "source": [
        "cifar100_shape = (3, 32, 32)\n",
        "n_classes = 100"
      ],
      "metadata": {
        "id": "zhrC9-KstiYC"
      },
      "execution_count": null,
      "outputs": []
    },
    {
      "cell_type": "markdown",
      "source": [
        "Y también incluye los mismos parámetros de asignaciones anteriores:\n",
        "\n",
        "   * criterion: la función de pérdida\n",
        "   * n_epochs: la cantidad de veces que itera a través de todo el conjunto de datos durante el entrenamiento\n",
        "   * z_dim: la dimensión del vector de ruido\n",
        "   * display_step: con qué frecuencia mostrar/visualizar las imágenes\n",
        "   * batch_size: el número de imágenes por paso adelante/atrás\n",
        "   * lr: la tasa de aprendizaje\n",
        "   * device: el tipo de dispositivo"
      ],
      "metadata": {
        "id": "Pwylz6jTtm8l"
      }
    },
    {
      "cell_type": "code",
      "source": [
        "n_epochs = 10000\n",
        "z_dim = 64\n",
        "display_step = 500\n",
        "batch_size = 64\n",
        "lr = 0.0002\n",
        "device = 'cuda'"
      ],
      "metadata": {
        "id": "akQWOifqtuNM"
      },
      "execution_count": null,
      "outputs": []
    },
    {
      "cell_type": "markdown",
      "source": [
        "Luego, desea establecer la dimensión de entrada de su generador. Recuerde que para las GAN condicionales, la entrada del generador es el vector de ruido concatenado con el vector de clase."
      ],
      "metadata": {
        "id": "I0hbKL4ZtxqK"
      }
    },
    {
      "cell_type": "code",
      "source": [
        "generator_input_dim = z_dim + n_classes"
      ],
      "metadata": {
        "id": "46IvX8iNtzUJ"
      },
      "execution_count": null,
      "outputs": []
    },
    {
      "cell_type": "markdown",
      "source": [
        "#### Clasificador\n",
        "\n",
        "\n"
      ],
      "metadata": {
        "id": "h857VKxCvoOC"
      }
    },
    {
      "cell_type": "code",
      "source": [
        "class Classifier(nn.Module):\n",
        "    '''\n",
        "    Clase de clasificador\n",
        "     Valores:\n",
        "         im_chan: el número de canales de la imagen de salida, un escalar\n",
        "         n_classes: el número total de clases en el conjunto de datos, un escalar entero\n",
        "         hidden_dim: la dimensión interna, un escalar\n",
        "    '''\n",
        "    def __init__(self, im_chan, n_classes, hidden_dim=32):\n",
        "        super(Classifier, self).__init__()\n",
        "        self.disc = nn.Sequential(\n",
        "            self.make_classifier_block(im_chan, hidden_dim),\n",
        "            self.make_classifier_block(hidden_dim, hidden_dim * 2),\n",
        "            self.make_classifier_block(hidden_dim * 2, hidden_dim * 4),\n",
        "            self.make_classifier_block(hidden_dim * 4, n_classes, final_layer=True),\n",
        "        )\n",
        "\n",
        "    def make_classifier_block(self, input_channels, output_channels, kernel_size=3, stride=2, final_layer=False):\n",
        "        '''\n",
        "        Función para devolver una secuencia de operaciones correspondiente a un bloque clasificador;\n",
        "         una convolución, una norma por lotes (excepto en la capa final) y una activación (excepto en la capa final).\n",
        "         Parámetros:\n",
        "             input_channels: cuántos canales tiene la representación de la característica de entrada\n",
        "             output_channels: cuántos canales debe tener la representación de la característica de salida\n",
        "             kernel_size: el tamaño de cada filtro convolucional, equivalente a (kernel_size, kernel_size)\n",
        "             stride: la zancada de la convolución\n",
        "             final_layer: un valor booleano, verdadero si es la capa final y falso en caso contrario\n",
        "                       (afecta la activación y la norma de lote)\n",
        "        '''\n",
        "        if not final_layer:\n",
        "            return nn.Sequential(\n",
        "                nn.Conv2d(input_channels, output_channels, kernel_size, stride),\n",
        "                nn.BatchNorm2d(output_channels),\n",
        "                nn.LeakyReLU(0.2, inplace=True),\n",
        "            )\n",
        "        else:\n",
        "            return nn.Sequential(\n",
        "                nn.Conv2d(input_channels, output_channels, kernel_size, stride),\n",
        "            )\n",
        "\n",
        "    def forward(self, image):\n",
        "        '''\n",
        "        Función para completar un pase hacia adelante del clasificador: Dado un tensor de imagen,\n",
        "         devuelve un tensor n_classes-dimension que representa falso/real.\n",
        "         Parámetros:\n",
        "             image: un tensor de imagen aplanado con canales im_chan\n",
        "        '''\n",
        "        class_pred = self.disc(image)\n",
        "        return class_pred.view(len(class_pred), -1)"
      ],
      "metadata": {
        "id": "xDejJwqrvtiY"
      },
      "execution_count": null,
      "outputs": []
    },
    {
      "cell_type": "markdown",
      "source": [
        "#### Pre-entrenamiento (Opcional)\n",
        "\n",
        "Se le proporciona el código para entrenar previamente los modelos (GAN y clasificador) que se le entregaron en esta tarea. Sin embargo, esto está destinado solo para su curiosidad personal: para que la tarea se ejecute según lo previsto, no debe usar ningún punto de control además de los que se le otorgan."
      ],
      "metadata": {
        "id": "PiuGI5i8v5nR"
      }
    },
    {
      "cell_type": "code",
      "source": [
        "# Este código está aquí para que entrenes tu propio generador o clasificador\n",
        "# fuera de la asignación en el conjunto de datos completo si lo desea, a los efectos\n",
        "# de esta tarea, utilice los puntos de control provistos\n",
        "class Discriminator(nn.Module):\n",
        "    '''\n",
        "    Clase de discriminador\n",
        "     Valores:\n",
        "       im_chan: el número de canales de la imagen de salida, un escalar\n",
        "             (MNIST es en blanco y negro, por lo que 1 canal es su valor predeterminado)\n",
        "       hidden_dim: la dimensión interna, un escalar\n",
        "    '''\n",
        "    def __init__(self, im_chan=3, hidden_dim=64):\n",
        "        super(Discriminator, self).__init__()\n",
        "        self.disc = nn.Sequential(\n",
        "            self.make_disc_block(im_chan, hidden_dim, stride=1),\n",
        "            self.make_disc_block(hidden_dim, hidden_dim * 2),\n",
        "            self.make_disc_block(hidden_dim * 2, hidden_dim * 4),\n",
        "            self.make_disc_block(hidden_dim * 4, 1, final_layer=True),\n",
        "        )\n",
        "\n",
        "    def make_disc_block(self, input_channels, output_channels, kernel_size=4, stride=2, final_layer=False):\n",
        "        '''\n",
        "        Función para devolver una secuencia de operaciones correspondiente a un bloque discriminador de la DCGAN;\n",
        "         una convolución, una norma por lotes (excepto en la capa final) y una activación (excepto en la capa final).\n",
        "         Parámetros:\n",
        "             input_channels: cuántos canales tiene la representación de la característica de entrada\n",
        "             output_channels: cuántos canales debe tener la representación de la característica de salida\n",
        "             kernel_size: el tamaño de cada filtro convolucional, equivalente a (kernel_size, kernel_size)\n",
        "             stride: la zancada de la convolución\n",
        "             final_layer: un valor booleano, verdadero si es la capa final y falso en caso contrario\n",
        "                       (afecta la activación y la norma de lote)\n",
        "        '''\n",
        "        if not final_layer:\n",
        "            return nn.Sequential(\n",
        "                nn.Conv2d(input_channels, output_channels, kernel_size, stride),\n",
        "                nn.BatchNorm2d(output_channels),\n",
        "                nn.LeakyReLU(0.2, inplace=True),\n",
        "            )\n",
        "        else:\n",
        "            return nn.Sequential(\n",
        "                nn.Conv2d(input_channels, output_channels, kernel_size, stride),\n",
        "            )\n",
        "\n",
        "    def forward(self, image):\n",
        "        '''\n",
        "        Función para completar un pase hacia adelante del discriminador: Dado un tensor de imagen,\n",
        "         devuelve un tensor de 1 dimensión que representa falso/real.\n",
        "         Parámetros:\n",
        "             image: un tensor de imagen aplanado con dimensión (im_chan)\n",
        "        '''\n",
        "        disc_pred = self.disc(image)\n",
        "        return disc_pred.view(len(disc_pred), -1)\n",
        "\n",
        "def train_generator():\n",
        "    gen = Generator(generator_input_dim).to(device)\n",
        "    gen_opt = torch.optim.Adam(gen.parameters(), lr=lr)\n",
        "    discriminator_input_dim = cifar100_shape[0] + n_classes\n",
        "    disc = Discriminator(discriminator_input_dim).to(device)\n",
        "    disc_opt = torch.optim.Adam(disc.parameters(), lr=lr)\n",
        "\n",
        "    def weights_init(m):\n",
        "        if isinstance(m, nn.Conv2d) or isinstance(m, nn.ConvTranspose2d):\n",
        "            torch.nn.init.normal_(m.weight, 0.0, 0.02)\n",
        "        if isinstance(m, nn.BatchNorm2d):\n",
        "            torch.nn.init.normal_(m.weight, 0.0, 0.02)\n",
        "            torch.nn.init.constant_(m.bias, 0)\n",
        "    gen = gen.apply(weights_init)\n",
        "    disc = disc.apply(weights_init)\n",
        "\n",
        "    criterion = nn.BCEWithLogitsLoss()\n",
        "    cur_step = 0\n",
        "    mean_generator_loss = 0\n",
        "    mean_discriminator_loss = 0\n",
        "    for epoch in range(n_epochs):\n",
        "        # Dataloader devuelve los lotes y las etiquetas\n",
        "        for real, labels in dataloader:\n",
        "            cur_batch_size = len(real)\n",
        "            # Aplane el lote de imágenes reales del conjunto de datos\n",
        "            real = real.to(device)\n",
        "\n",
        "            # Convierta las etiquetas del cargador de datos en versiones únicas de esas etiquetas\n",
        "            one_hot_labels = get_one_hot_labels(labels.to(device), n_classes).float()\n",
        "\n",
        "            image_one_hot_labels = one_hot_labels[:, :, None, None]\n",
        "            image_one_hot_labels = image_one_hot_labels.repeat(1, 1, cifar100_shape[1], cifar100_shape[2])\n",
        "\n",
        "            ### Actualizar el discriminador ###\n",
        "            # Poner a cero los gradientes del discriminador\n",
        "            disc_opt.zero_grad()\n",
        "            # Obtenga el ruido correspondiente al tamaño del lote actual\n",
        "            fake_noise = get_noise(cur_batch_size, z_dim, device=device)\n",
        "        \n",
        "            # Combine los vectores del ruido y las etiquetas one-hot para el generador\n",
        "            noise_and_labels = combine_vectors(fake_noise, one_hot_labels)\n",
        "            fake = gen(noise_and_labels)\n",
        "            # Combine los vectores de las imágenes y las etiquetas one-hot para el discriminador\n",
        "            fake_image_and_labels = combine_vectors(fake.detach(), image_one_hot_labels)\n",
        "            real_image_and_labels = combine_vectors(real, image_one_hot_labels)\n",
        "            disc_fake_pred = disc(fake_image_and_labels)\n",
        "            disc_real_pred = disc(real_image_and_labels)\n",
        "\n",
        "            disc_fake_loss = criterion(disc_fake_pred, torch.zeros_like(disc_fake_pred))\n",
        "            disc_real_loss = criterion(disc_real_pred, torch.ones_like(disc_real_pred))\n",
        "            disc_loss = (disc_fake_loss + disc_real_loss) / 2\n",
        "            disc_loss.backward(retain_graph=True)\n",
        "            disc_opt.step() \n",
        "\n",
        "            # Realice un seguimiento de la pérdida promedio del discriminador\n",
        "            mean_discriminator_loss += disc_loss.item() / display_step\n",
        "\n",
        "            ### Actualizar el generador ###\n",
        "            # Poner en cero los gradientes del generador\n",
        "            gen_opt.zero_grad()\n",
        "\n",
        "            # Pase al discriminador la combinación de las imágenes falsas y las etiquetas one-hot\n",
        "            fake_image_and_labels = combine_vectors(fake, image_one_hot_labels)\n",
        "\n",
        "            disc_fake_pred = disc(fake_image_and_labels)\n",
        "            gen_loss = criterion(disc_fake_pred, torch.ones_like(disc_fake_pred))\n",
        "            gen_loss.backward()\n",
        "            gen_opt.step()\n",
        "\n",
        "            # Lleve un registro de la pérdida promedio del generador\n",
        "            mean_generator_loss += gen_loss.item() / display_step\n",
        "\n",
        "            if cur_step % display_step == 0 and cur_step > 0:\n",
        "                print(f\"Step {cur_step}: Generator loss: {mean_generator_loss}, discriminator loss: {mean_discriminator_loss}\")\n",
        "                show_tensor_images(fake)\n",
        "                show_tensor_images(real)\n",
        "                mean_generator_loss = 0\n",
        "                mean_discriminator_loss = 0\n",
        "            cur_step += 1\n",
        "\n",
        "def train_classifier():\n",
        "    criterion = nn.CrossEntropyLoss()\n",
        "    n_epochs = 10\n",
        "\n",
        "    validation_dataloader = DataLoader(\n",
        "        CIFAR100(\".\", train=False, download=True, transform=transform),\n",
        "        batch_size=batch_size)\n",
        "\n",
        "    display_step = 10\n",
        "    batch_size = 512\n",
        "    lr = 0.0002\n",
        "\n",
        "    classifier = Classifier(cifar100_shape[0], n_classes).to(device)\n",
        "    classifier_opt = torch.optim.Adam(classifier.parameters(), lr=lr)\n",
        "    cur_step = 0\n",
        "    for epoch in range(n_epochs):\n",
        "        for real, labels in tqdm(dataloader):\n",
        "            cur_batch_size = len(real)\n",
        "            real = real.to(device)\n",
        "            labels = labels.to(device)\n",
        "\n",
        "            ### Actualizar el clasificador ###\n",
        "            # Obtenga el ruido correspondiente al tamaño del lote actual\n",
        "            classifier_opt.zero_grad()\n",
        "            labels_hat = classifier(real.detach())\n",
        "            classifier_loss = criterion(labels_hat, labels)\n",
        "            classifier_loss.backward()\n",
        "            classifier_opt.step()\n",
        "\n",
        "            if cur_step % display_step == 0:\n",
        "                classifier_val_loss = 0\n",
        "                classifier_correct = 0\n",
        "                num_validation = 0\n",
        "                for val_example, val_label in validation_dataloader:\n",
        "                    cur_batch_size = len(val_example)\n",
        "                    num_validation += cur_batch_size\n",
        "                    val_example = val_example.to(device)\n",
        "                    val_label = val_label.to(device)\n",
        "                    labels_hat = classifier(val_example)\n",
        "                    classifier_val_loss += criterion(labels_hat, val_label) * cur_batch_size\n",
        "                    classifier_correct += (labels_hat.argmax(1) == val_label).float().sum()\n",
        "\n",
        "                print(f\"Step {cur_step}: \"\n",
        "                        f\"Classifier loss: {classifier_val_loss.item() / num_validation}, \"\n",
        "                        f\"classifier accuracy: {classifier_correct.item() / num_validation}\")\n",
        "            cur_step += 1"
      ],
      "metadata": {
        "id": "4PkcobbbwBm9"
      },
      "execution_count": null,
      "outputs": []
    },
    {
      "cell_type": "markdown",
      "source": [
        "## Afinando el Clasificador\n",
        "Como maestro de errores, desea un clasificador capaz de clasificar diferentes especies de insectos: abejas, escarabajos, mariposas, orugas y más. Afortunadamente, encontraste un gran conjunto de datos con muchas especies de animales y objetos, y entrenaste a tu clasificador en eso.\n",
        "\n",
        "Pero las clases de errores no funcionan tan bien como te gustaría. ¡Ahora su plan es entrenar un GAN con los mismos datos para que pueda generar nuevos errores para que su clasificador distinga mejor entre todos sus errores favoritos!\n",
        "\n",
        "Ajustará su modelo aumentando los datos reales originales con datos falsos y, durante ese proceso, observará cómo aumentar la precisión de su clasificador con estos errores falsos generados por GAN. Después de esto, demostrarás tu valía como maestro de errores."
      ],
      "metadata": {
        "id": "SKxnUUKTw0W8"
      }
    },
    {
      "cell_type": "markdown",
      "source": [
        "#### Relación de muestreo\n",
        "\n",
        "Supongamos que ha decidido que, aunque tiene este generador general preentrenado y este clasificador general, capaz de identificar 100 clases con cierta precisión (~17 %), lo que realmente le gustaría es un modelo que pueda clasificar las cinco clases diferentes. tipos de errores en el conjunto de datos. Ajustará su modelo aumentando sus datos con las imágenes generadas. Tenga en cuenta que tanto el generador como el clasificador se entrenaron con las mismas imágenes: las 40 imágenes por clase que encontró minuciosamente, por lo que su generador puede no ser excelente. Esta es la advertencia con el aumento de datos, en última instancia, todavía está limitado por los datos reales que tiene, pero desea intentar crear más. Para hacer que sus modelos sean aún mejores, necesitará tomar más fotos de errores, etiquetarlos y agregarlos a su conjunto de entrenamiento y/o usar fotos de mayor calidad.\n",
        "\n",
        "Para comenzar, primero deberá escribir un código para probar una combinación de imágenes reales y generadas. Dada una probabilidad, `p_real`, deberá generar un tensor combinado donde aproximadamente `p_real` de las imágenes devueltas se muestrean de las imágenes reales. Tenga en cuenta que no debe interpolar las imágenes aquí: debe elegir cada imagen del conjunto real o falso con una probabilidad dada. Por ejemplo, si sus imágenes reales son un tensor de `[[1, 2, 3, 4, 5]]` y sus imágenes falsas son un tensor de `[[-1, -2, -3, -4, - 5]]` y `p_real = 0.2`, dos posibles valores de retorno aleatorios son `[[1, -2, 3, -4, -5]]` o `[[-1, 2, -3, -4 , -5]]`.\n",
        "\n",
        "\n",
        "Tenga en cuenta que `p_real = 0.2` no garantiza que exactamente el 20% de las muestras sean reales, solo que al elegir una imagen para el conjunto combinado, existe un 20% de probabilidad de que esa imagen se elija entre las imágenes reales, y un 80% de probabilidad de que sea seleccionado de las imágenes falsas.\n",
        "\n",
        "Además, esperamos que las imágenes permanezcan en el mismo orden para mantener su alineación con sus etiquetas (¡esto también se aplica a las imágenes falsas!)"
      ],
      "metadata": {
        "id": "3Bv2g-2ixJ6e"
      }
    },
    {
      "cell_type": "code",
      "source": [
        "def combine_sample(real, fake, p_real):\n",
        "    '''\n",
        "    Función para tomar un conjunto de imágenes reales y falsas de la misma longitud (x)\n",
        "     y producir un tensor combinado con longitud (x) y muestreado en la probabilidad objetivo\n",
        "     Parámetros:\n",
        "         real: un tensor de imágenes reales, longitud (x)\n",
        "         fake: un tensor de imágenes falsas, longitud (x)\n",
        "         p_real: la probabilidad de que las imágenes se muestreen del conjunto real\n",
        "    '''\n",
        "    #### START CODE HERE ####\n",
        "    make_fake = torch.rand(len(real)) > p_real\n",
        "    target_images = real.clone()\n",
        "    target_images[make_fake] = fake[make_fake]\n",
        "    #### END CODE HERE ####\n",
        "    return target_images"
      ],
      "metadata": {
        "id": "lfw15GvEx2T5"
      },
      "execution_count": null,
      "outputs": []
    },
    {
      "cell_type": "code",
      "source": [
        "n_test_samples = 9999\n",
        "test_combination = combine_sample(\n",
        "    torch.ones(n_test_samples, 1), \n",
        "    torch.zeros(n_test_samples, 1), \n",
        "    0.3\n",
        ")\n",
        "# Comprueba que la forma sea la correcta\n",
        "assert tuple(test_combination.shape) == (n_test_samples, 1)\n",
        "# Check that the ratio is right\n",
        "assert torch.abs(test_combination.mean() - 0.3) < 0.05\n",
        "# Asegúrese de que no haya ocurrido ninguna mezcla\n",
        "assert test_combination.median() < 1e-5\n",
        "\n",
        "test_combination = combine_sample(\n",
        "    torch.ones(n_test_samples, 10, 10), \n",
        "    torch.zeros(n_test_samples, 10, 10), \n",
        "    0.8\n",
        ")\n",
        "# Comprueba que la forma sea la correcta\n",
        "assert tuple(test_combination.shape) == (n_test_samples, 10, 10)\n",
        "# Asegúrese de que no haya ocurrido ninguna mezcla\n",
        "assert torch.abs((test_combination.sum([1, 2]).median()) - 100) < 1e-5\n",
        "\n",
        "test_reals = torch.arange(n_test_samples)[:, None].float()\n",
        "test_fakes = torch.zeros(n_test_samples, 1)\n",
        "test_saved = (test_reals.clone(), test_fakes.clone())\n",
        "test_combination = combine_sample(test_reals, test_fakes, 0.3)\n",
        "# Asegúrese de que la muestra no esté sesgada\n",
        "assert torch.abs((test_combination.mean() - 1500)) < 100\n",
        "# Asegúrese de que no se cambiaron las entradas\n",
        "assert torch.abs(test_saved[0] - test_reals).sum() < 1e-3\n",
        "assert torch.abs(test_saved[1] - test_fakes).sum() < 1e-3\n",
        "\n",
        "test_fakes = torch.arange(n_test_samples)[:, None].float()\n",
        "test_combination = combine_sample(test_reals, test_fakes, 0.3)\n",
        "# Asegúrate de que se mantenga el orden.\n",
        "assert torch.abs(test_combination - test_reals).sum() < 1e-4\n",
        "if torch.cuda.is_available():\n",
        "    # Verifique que la solución coincida con el dispositivo de entrada\n",
        "    assert str(combine_sample(\n",
        "        torch.ones(n_test_samples, 10, 10).cuda(), \n",
        "        torch.zeros(n_test_samples, 10, 10).cuda(),\n",
        "        0.8\n",
        "    ).device).startswith(\"cuda\")\n",
        "print(\"Success!\")"
      ],
      "metadata": {
        "colab": {
          "base_uri": "https://localhost:8080/"
        },
        "id": "b-BP001Vx_i2",
        "outputId": "5436ecdb-f859-47be-b474-041e101a1bc7"
      },
      "execution_count": null,
      "outputs": [
        {
          "output_type": "stream",
          "name": "stdout",
          "text": [
            "Success!\n"
          ]
        }
      ]
    },
    {
      "cell_type": "markdown",
      "source": [
        "## Parte opcional: Entrenamiento\n",
        "\n",
        "Ahora tienes un desafío: encuentra un `p_real` y una imagen generadora de modo que tu clasificador obtenga un promedio de 51% de precisión o más en los insectos, cuando se evalúa con la función `eval_augmentation`. ** ¡Deberá completar `find_optimal` para encontrar estos parámetros para resolver esta parte! ** Tenga en cuenta que si su respuesta tarda mucho tiempo en ejecutarse, es posible que deba codificar la solución que encuentra.\n",
        "\n",
        "Cuando está entrenando un generador, a menudo tendrá que mirar diferentes puntos de control y elegir uno que funcione mejor (ya sea empíricamente o usando algún método de evaluación). Aquí, se le proporcionan cuatro puntos de control del generador: `gen_1.pt`, `gen_2.pt`, `gen_3.pt`, `gen_4.pt`. También tendrá un área de borrador para escribir el código que desee para resolver este problema, pero debe devolver un `p_real` y un nombre de imagen de su punto de control del generador seleccionado. Puede codificar/forzar brutamente estos números si lo desea, pero se le recomienda que intente resolver este problema de una manera más general. En la práctica, también desearía un conjunto de prueba (ya que es posible sobreajustar en un conjunto de validación), pero para simplificar, puede concentrarse en el conjunto de validación."
      ],
      "metadata": {
        "id": "8fXaq0LbyT-L"
      }
    },
    {
      "cell_type": "code",
      "source": [
        "!git clone https://github.com/AbigailMRod/GANsDL.AI.git"
      ],
      "metadata": {
        "colab": {
          "base_uri": "https://localhost:8080/"
        },
        "id": "g38Higze3f92",
        "outputId": "f5234b2c-b565-4ad6-d19e-ad52b3fe391e"
      },
      "execution_count": null,
      "outputs": [
        {
          "output_type": "stream",
          "name": "stdout",
          "text": [
            "Cloning into 'GANsDL.AI'...\n",
            "remote: Enumerating objects: 66, done.\u001b[K\n",
            "remote: Counting objects: 100% (1/1), done.\u001b[K\n",
            "remote: Total 66 (delta 0), reused 0 (delta 0), pack-reused 65\u001b[K\n",
            "Unpacking objects: 100% (66/66), done.\n"
          ]
        }
      ]
    },
    {
      "cell_type": "code",
      "source": [
        "def find_optimal():\n",
        "    # En la siguiente sección, puede escribir el código para elegir su respuesta óptima\n",
        "     # ¡Incluso puede usar la función eval_augmentation en su código si lo desea!\n",
        "    gen_names = [\n",
        "        \"/content/GANsDL.AI/gen/gen_1.pt\",\n",
        "        \"/content/GANsDL.AI/gen/gen_2.pt\",\n",
        "        \"/content/GANsDL.AI/gen/gen_3.pt\",\n",
        "        \"/content/GANsDL.AI/gen/gen_4.pt\"\n",
        "    ]\n",
        "\n",
        "    #### START CODE HERE #### \n",
        "    best_p_real, best_gen_name = 0.6, \"/content/GANsDL.AI/gen/gen_4.pt\"\n",
        "    #### END CODE HERE ####\n",
        "    return best_p_real, best_gen_name\n",
        "\n",
        "def augmented_train(p_real, gen_name):\n",
        "    gen = Generator(generator_input_dim).to(device)\n",
        "    gen.load_state_dict(torch.load(gen_name))\n",
        "\n",
        "    classifier = Classifier(cifar100_shape[0], n_classes).to(device)\n",
        "    classifier.load_state_dict(torch.load(\"/content/GANsDL.AI/gen/class.pt\"))\n",
        "    criterion = nn.CrossEntropyLoss()\n",
        "    batch_size = 256\n",
        "\n",
        "    train_set = torch.load(\"/content/GANsDL.AI/gen/insect_train.pt\")\n",
        "    val_set = torch.load(\"/content/GANsDL.AI/gen/insect_val.pt\")\n",
        "    dataloader = DataLoader(\n",
        "        torch.utils.data.TensorDataset(train_set[\"images\"], train_set[\"labels\"]),\n",
        "        batch_size=batch_size,\n",
        "        shuffle=True\n",
        "    )\n",
        "    validation_dataloader = DataLoader(\n",
        "        torch.utils.data.TensorDataset(val_set[\"images\"], val_set[\"labels\"]),\n",
        "        batch_size=batch_size\n",
        "    )\n",
        "\n",
        "    display_step = 1\n",
        "    lr = 0.0002\n",
        "    n_epochs = 20\n",
        "    classifier_opt = torch.optim.Adam(classifier.parameters(), lr=lr)\n",
        "    cur_step = 0\n",
        "    best_score = 0\n",
        "    for epoch in range(n_epochs):\n",
        "        for real, labels in dataloader:\n",
        "            real = real.to(device)\n",
        "            # Aplanar la imagen\n",
        "            labels = labels.to(device)\n",
        "            one_hot_labels = get_one_hot_labels(labels.to(device), n_classes).float()\n",
        "\n",
        "            ### Actualizar el clasificador ###\n",
        "            # Obtenga el ruido correspondiente al tamaño del lote actual\n",
        "            classifier_opt.zero_grad()\n",
        "            cur_batch_size = len(labels)\n",
        "            fake_noise = get_noise(cur_batch_size, z_dim, device=device)\n",
        "            noise_and_labels = combine_vectors(fake_noise, one_hot_labels)\n",
        "            fake = gen(noise_and_labels)\n",
        "\n",
        "            target_images = combine_sample(real.clone(), fake.clone(), p_real)\n",
        "            labels_hat = classifier(target_images.detach())\n",
        "            classifier_loss = criterion(labels_hat, labels)\n",
        "            classifier_loss.backward()\n",
        "            classifier_opt.step()\n",
        "\n",
        "            # Calcule la precisión en el conjunto de validación\n",
        "            if cur_step % display_step == 0 and cur_step > 0:\n",
        "                classifier_val_loss = 0\n",
        "                classifier_correct = 0\n",
        "                num_validation = 0\n",
        "                with torch.no_grad():\n",
        "                    for val_example, val_label in validation_dataloader:\n",
        "                        cur_batch_size = len(val_example)\n",
        "                        num_validation += cur_batch_size\n",
        "                        val_example = val_example.to(device)\n",
        "                        val_label = val_label.to(device)\n",
        "                        labels_hat = classifier(val_example)\n",
        "                        classifier_val_loss += criterion(labels_hat, val_label) * cur_batch_size\n",
        "                        classifier_correct += (labels_hat.argmax(1) == val_label).float().sum()\n",
        "                    accuracy = classifier_correct.item() / num_validation\n",
        "                    if accuracy > best_score:\n",
        "                        best_score = accuracy\n",
        "            cur_step += 1\n",
        "    return best_score\n",
        "\n",
        "def eval_augmentation(p_real, gen_name, n_test=20):\n",
        "    total = 0\n",
        "    for i in range(n_test):\n",
        "        total += augmented_train(p_real, gen_name)\n",
        "    return total / n_test\n",
        "\n",
        "best_p_real, best_gen_name = find_optimal()\n",
        "performance = eval_augmentation(best_p_real, best_gen_name)\n",
        "print(f\"Your model had an accuracy of {performance:0.1%}\")\n",
        "assert performance > 0.512\n",
        "print(\"Success!\")"
      ],
      "metadata": {
        "colab": {
          "base_uri": "https://localhost:8080/"
        },
        "id": "9vmuiGSrygWR",
        "outputId": "40c2a834-2789-4e06-a6bc-d8bf65f06958"
      },
      "execution_count": null,
      "outputs": [
        {
          "output_type": "stream",
          "name": "stdout",
          "text": [
            "Your model had an accuracy of 51.8%\n",
            "Success!\n"
          ]
        }
      ]
    },
    {
      "cell_type": "markdown",
      "source": [
        "Probablemente encontrará que el peor rendimiento es cuando el generador funciona solo: esto corresponde al caso en el que podría estar tratando de ocultar los ejemplos subyacentes del clasificador. ¡Quizás no quiera que otras personas sepan acerca de sus errores específicos!"
      ],
      "metadata": {
        "id": "kOg4C2Qxy6Sc"
      }
    },
    {
      "cell_type": "code",
      "source": [
        "accuracies = []\n",
        "p_real_all = torch.linspace(0, 1, 21)\n",
        "for p_real_vis in tqdm(p_real_all):\n",
        "    accuracies += [eval_augmentation(p_real_vis, best_gen_name, n_test=4)]\n",
        "plt.plot(p_real_all.tolist(), accuracies)\n",
        "plt.ylabel(\"Accuracy\")\n",
        "_ = plt.xlabel(\"Percent Real Images\")"
      ],
      "metadata": {
        "colab": {
          "base_uri": "https://localhost:8080/",
          "height": 311,
          "referenced_widgets": [
            "80f887acb78a45e4831face329528ee6",
            "4ccd6d2b5df54378ac53560aa29e5b11",
            "13b8e44115dd471d8a451670eed2c068",
            "0780682ed0244e1caecfeb735a7d6cfd",
            "ba92ae34f1b841659681ff9919adfc76",
            "38f2812173fe43268f2564ff6f67d460",
            "99a103dbf764499fb94880952521104f",
            "41fe2c3efb334982b2cdb8281370c03b",
            "134ad5e5cf7f4450b33c5c20faeb40ad",
            "1defaa30960f471f9203d984ce2094d3",
            "1e8f99a2f2af49e9a59ecd7d2d94f435"
          ]
        },
        "id": "p2MqI4S_yz_Q",
        "outputId": "4afe6f88-c177-48ac-ba76-f32d7272c521"
      },
      "execution_count": null,
      "outputs": [
        {
          "output_type": "display_data",
          "data": {
            "text/plain": [
              "  0%|          | 0/21 [00:00<?, ?it/s]"
            ],
            "application/vnd.jupyter.widget-view+json": {
              "version_major": 2,
              "version_minor": 0,
              "model_id": "80f887acb78a45e4831face329528ee6"
            }
          },
          "metadata": {}
        },
        {
          "output_type": "display_data",
          "data": {
            "text/plain": [
              "<Figure size 432x288 with 1 Axes>"
            ],
            "image/png": "[encoded data removed]"
          },
          "metadata": {
            "needs_background": "light"
          }
        }
      ]
    },
    {
      "cell_type": "markdown",
      "source": [
        "Aquí hay una visualización de lo que el generador realmente está generando, con ejemplos reales de cada clase sobre la imagen generada correspondiente."
      ],
      "metadata": {
        "id": "Rnre8CN4y7Bn"
      }
    },
    {
      "cell_type": "code",
      "source": [
        "examples = [4, 41, 80, 122, 160]\n",
        "train_images = torch.load(\"/content/GANsDL.AI/gen/insect_train.pt\")[\"images\"][examples]\n",
        "train_labels = torch.load(\"/content/GANsDL.AI/gen/insect_train.pt\")[\"labels\"][examples]\n",
        "\n",
        "one_hot_labels = get_one_hot_labels(train_labels.to(device), n_classes).float()\n",
        "fake_noise = get_noise(len(train_images), z_dim, device=device)\n",
        "noise_and_labels = combine_vectors(fake_noise, one_hot_labels)\n",
        "gen = Generator(generator_input_dim).to(device)\n",
        "gen.load_state_dict(torch.load(best_gen_name))\n",
        "\n",
        "fake = gen(noise_and_labels)\n",
        "show_tensor_images(torch.cat([train_images.cpu(), fake.cpu()]))"
      ],
      "metadata": {
        "colab": {
          "base_uri": "https://localhost:8080/",
          "height": 187
        },
        "id": "FtcpGIrZzCwG",
        "outputId": "678beeca-bb93-4457-fb16-e6faf62a77d6"
      },
      "execution_count": null,
      "outputs": [
        {
          "output_type": "display_data",
          "data": {
            "text/plain": [
              "<Figure size 432x288 with 1 Axes>"
            ],
            "image/png": "[encoded data removed]"
          },
          "metadata": {
            "needs_background": "light"
          }
        }
      ]
    }
  ]
}