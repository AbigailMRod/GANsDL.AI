{
  "nbformat": 4,
  "nbformat_minor": 0,
  "metadata": {
    "colab": {
      "name": "Bias.ipynb",
      "provenance": [],
      "authorship_tag": "ABX9TyOB2WMNKFMgQwG/BPmzdc+c",
      "include_colab_link": true
    },
    "kernelspec": {
      "name": "python3",
      "display_name": "Python 3"
    },
    "language_info": {
      "name": "python"
    },
    "accelerator": "GPU",
    "gpuClass": "standard"
  },
  "cells": [
    {
      "cell_type": "markdown",
      "metadata": {
        "id": "view-in-github",
        "colab_type": "text"
      },
      "source": [
        "<a href=\"https://colab.research.google.com/github/AbigailMRod/GANsDL.AI/blob/main/Bias.ipynb\" target=\"_parent\"><img src=\"https://colab.research.google.com/assets/colab-badge.svg\" alt=\"Open In Colab\"/></a>"
      ]
    },
    {
      "cell_type": "markdown",
      "source": [
        "#Bias"
      ],
      "metadata": {
        "id": "JxT4aqf7_YsM"
      }
    },
    {
      "cell_type": "markdown",
      "source": [
        "En este cuaderno, se explorará una manera de identificar algunos sesgos de una GAN mediante un clasificador, de una manera adecuada para intentar crear un modelo independiente de una entrada. Tenga en cuenta que no todos los sesgos son tan obvios como los que verá aquí.\n",
        "\n"
      ],
      "metadata": {
        "id": "ugHfzoQY_jr2"
      }
    },
    {
      "cell_type": "markdown",
      "source": [
        "## Desafíos\n",
        "\n",
        "Un desafío importante en la evaluación del sesgo en las GAN es que aún desea que su generador pueda generar ejemplos de diferentes valores de una clase protegida, la clase contra la que le gustaría mitigar el sesgo. Si bien un clasificador se puede optimizar para que su salida sea independiente de una clase protegida, un generador que genera caras debería poder generar ejemplos de varios valores de clase protegida.\n",
        "\n",
        "Cuando genera ejemplos con varios valores de una clase protegida, no desea que esos ejemplos correspondan a ninguna propiedad que no sea estrictamente una función de esa clase protegida. Esto se hace especialmente difícil ya que muchas clases protegidas (por ejemplo, género o etnicidad) son construcciones sociales, y qué propiedades cuentan como \"una función de esa clase protegida\" variará dependiendo de a quién le preguntes. Ciertamente es un equilibrio difícil de lograr.\n",
        "\n",
        "Además, una clase protegida rara vez se usa para condicionar una GAN explícitamente, por lo que a menudo es necesario recurrir a métodos algo post-hoc (por ejemplo, usar un clasificador entrenado en características relevantes, que podría estar sesgado).\n",
        "\n",
        "En esta tarea, aprenderá un enfoque para detectar posibles sesgos mediante el análisis de correlaciones en las clasificaciones de características en las imágenes generadas."
      ],
      "metadata": {
        "id": "5RW6nBR__vd9"
      }
    },
    {
      "cell_type": "markdown",
      "source": [
        "## Empezando\n",
        "\n",
        "Como se ha hecho anteriormente, comenzaremos importando algunas bibliotecas útiles y definiendo una función de visualización para sus imágenes. También utilizará el mismo generador y clasificador básico de las semanas anteriores."
      ],
      "metadata": {
        "id": "Kldzc_ss_2uX"
      }
    },
    {
      "cell_type": "markdown",
      "source": [
        "Paquetes y visualización"
      ],
      "metadata": {
        "id": "XDHC6iVs__ji"
      }
    },
    {
      "cell_type": "code",
      "execution_count": 1,
      "metadata": {
        "id": "ephdfZfc_WVW"
      },
      "outputs": [],
      "source": [
        "import torch\n",
        "import numpy as np\n",
        "from torch import nn\n",
        "from tqdm.auto import tqdm\n",
        "from torchvision import transforms\n",
        "from torchvision.utils import make_grid\n",
        "from torchvision.datasets import CelebA\n",
        "from torch.utils.data import DataLoader\n",
        "import matplotlib.pyplot as plt\n",
        "torch.manual_seed(0) # Set for our testing purposes, please do not change!\n",
        "\n",
        "def show_tensor_images(image_tensor, num_images=16, size=(3, 64, 64), nrow=3):\n",
        "    '''\n",
        "    Función de visualización de imágenes: Dado un tensor de imágenes, número de imágenes,\n",
        "     tamaño por imagen e imágenes por fila, traza e imprime las imágenes en una cuadrícula uniforme.\n",
        "    '''\n",
        "    image_tensor = (image_tensor + 1) / 2\n",
        "    image_unflat = image_tensor.detach().cpu()\n",
        "    image_grid = make_grid(image_unflat[:num_images], nrow=nrow)\n",
        "    plt.imshow(image_grid.permute(1, 2, 0).squeeze())\n",
        "    plt.show()"
      ]
    },
    {
      "cell_type": "markdown",
      "source": [
        "Generador y ruido"
      ],
      "metadata": {
        "id": "eH3-VZTFAHXn"
      }
    },
    {
      "cell_type": "code",
      "source": [
        "class Generator(nn.Module):\n",
        "    '''\n",
        "    Clase de generador\n",
        "     Valores:\n",
        "         z_dim: la dimensión del vector de ruido, un escalar\n",
        "         im_chan: el número de canales en las imágenes, ajustado para el conjunto de datos utilizado, un escalar\n",
        "               (CelebA es rgb, por lo que 3 es su valor predeterminado)\n",
        "         hidden_dim: la dimensión interna, un escalar\n",
        "    '''\n",
        "    def __init__(self, z_dim=10, im_chan=3, hidden_dim=64):\n",
        "        super(Generator, self).__init__()\n",
        "        self.z_dim = z_dim\n",
        "        # Build the neural network\n",
        "        self.gen = nn.Sequential(\n",
        "            self.make_gen_block(z_dim, hidden_dim * 8),\n",
        "            self.make_gen_block(hidden_dim * 8, hidden_dim * 4),\n",
        "            self.make_gen_block(hidden_dim * 4, hidden_dim * 2),\n",
        "            self.make_gen_block(hidden_dim * 2, hidden_dim),\n",
        "            self.make_gen_block(hidden_dim, im_chan, kernel_size=4, final_layer=True),\n",
        "        )\n",
        "\n",
        "    def make_gen_block(self, input_channels, output_channels, kernel_size=3, stride=2, final_layer=False):\n",
        "        '''\n",
        "        Función para devolver una secuencia de operaciones correspondiente a un bloque generador de DCGAN;\n",
        "         una convolución transpuesta, una norma por lotes (excepto en la capa final) y una activación.\n",
        "         Parámetros:\n",
        "             input_channels: cuántos canales tiene la representación de la característica de entrada\n",
        "             output_channels: cuántos canales debe tener la representación de la característica de salida\n",
        "             kernel_size: el tamaño de cada filtro convolucional, equivalente a (kernel_size, kernel_size)\n",
        "             stride: la zancada de la convolución\n",
        "             final_layer: un valor booleano, verdadero si es la capa final y falso en caso contrario\n",
        "                       (afecta la activación y la norma de lote)\n",
        "        '''\n",
        "        if not final_layer:\n",
        "            return nn.Sequential(\n",
        "                nn.ConvTranspose2d(input_channels, output_channels, kernel_size, stride),\n",
        "                nn.BatchNorm2d(output_channels),\n",
        "                nn.ReLU(inplace=True),\n",
        "            )\n",
        "        else:\n",
        "            return nn.Sequential(\n",
        "                nn.ConvTranspose2d(input_channels, output_channels, kernel_size, stride),\n",
        "                nn.Tanh(),\n",
        "            )\n",
        "\n",
        "    def forward(self, noise):\n",
        "        '''\n",
        "        Función para completar un paso hacia adelante del generador: Dado un tensor de ruido,\n",
        "         devuelve las imágenes generadas.\n",
        "         Parámetros:\n",
        "             noise: un tensor de ruido con dimensiones (n_samples, z_dim)\n",
        "        '''\n",
        "        x = noise.view(len(noise), self.z_dim, 1, 1)\n",
        "        return self.gen(x)\n",
        "\n",
        "def get_noise(n_samples, z_dim, device='cpu'):\n",
        "    '''\n",
        "    Función para crear vectores de ruido: Dadas las dimensiones (n_samples, z_dim)\n",
        "     crea un tensor de esa forma lleno de números aleatorios de la distribución normal.\n",
        "     Parámetros:\n",
        "         n_samples: el número de muestras a generar, un escalar\n",
        "         z_dim: la dimensión del vector de ruido, un escalar\n",
        "         device: el tipo de dispositivo\n",
        "    '''\n",
        "    return torch.randn(n_samples, z_dim, device=device)"
      ],
      "metadata": {
        "id": "_yItgi-cAJUS"
      },
      "execution_count": 2,
      "outputs": []
    },
    {
      "cell_type": "markdown",
      "source": [
        "Clasificador"
      ],
      "metadata": {
        "id": "hy_1FMi_AaZb"
      }
    },
    {
      "cell_type": "code",
      "source": [
        "class Classifier(nn.Module):\n",
        "    '''\n",
        "    Clase de clasificador\n",
        "     Valores:\n",
        "         im_chan: el número de canales en las imágenes, ajustado para el conjunto de datos utilizado, un escalar\n",
        "               (CelebA es rgb, por lo que 3 es su valor predeterminado)\n",
        "         n_classes: el número total de clases en el conjunto de datos, un escalar entero\n",
        "         hidden_dim: la dimensión interna, un escalar\n",
        "    '''\n",
        "    def __init__(self, im_chan=3, n_classes=2, hidden_dim=64):\n",
        "        super(Classifier, self).__init__()\n",
        "        self.classifier = nn.Sequential(\n",
        "            self.make_classifier_block(im_chan, hidden_dim),\n",
        "            self.make_classifier_block(hidden_dim, hidden_dim * 2),\n",
        "            self.make_classifier_block(hidden_dim * 2, hidden_dim * 4, stride=3),\n",
        "            self.make_classifier_block(hidden_dim * 4, n_classes, final_layer=True),\n",
        "        )\n",
        "\n",
        "    def make_classifier_block(self, input_channels, output_channels, kernel_size=4, stride=2, final_layer=False):\n",
        "        '''\n",
        "        Función para devolver una secuencia de operaciones correspondiente a un bloque clasificador;\n",
        "         una convolución, una norma por lotes (excepto en la capa final) y una activación (excepto en la capa final).\n",
        "         Parámetros:\n",
        "             input_channels: cuántos canales tiene la representación de la característica de entrada\n",
        "             output_channels: cuántos canales debe tener la representación de la característica de salida\n",
        "             kernel_size: el tamaño de cada filtro convolucional, equivalente a (kernel_size, kernel_size)\n",
        "             stride: la zancada de la convolución\n",
        "             final_layer: un valor booleano, verdadero si es la capa final y falso en caso contrario\n",
        "                       (afecta la activación y la norma de lote)\n",
        "        '''\n",
        "        if not final_layer:\n",
        "            return nn.Sequential(\n",
        "                nn.Conv2d(input_channels, output_channels, kernel_size, stride),\n",
        "                nn.BatchNorm2d(output_channels),\n",
        "                nn.LeakyReLU(0.2, inplace=True),\n",
        "            )\n",
        "        else:\n",
        "            return nn.Sequential(\n",
        "                nn.Conv2d(input_channels, output_channels, kernel_size, stride),\n",
        "            )\n",
        "\n",
        "    def forward(self, image):\n",
        "        '''\n",
        "        Función para completar un pase hacia adelante del clasificador: Dado un tensor de imagen,\n",
        "         devuelve un tensor n_classes-dimension que representa clases.\n",
        "         Parámetros:\n",
        "             image: un tensor de imagen aplanado con canales im_chan\n",
        "        '''\n",
        "        class_pred = self.classifier(image)\n",
        "        return class_pred.view(len(class_pred), -1)"
      ],
      "metadata": {
        "id": "oDJR78ijAaMy"
      },
      "execution_count": 3,
      "outputs": []
    },
    {
      "cell_type": "markdown",
      "source": [
        "## Especificación de parámetros\n",
        "También deberá especificar algunos parámetros antes de comenzar a entrenar:\n",
        "   * z_dim: la dimensión del vector de ruido\n",
        "   * batch_size: el número de imágenes por paso adelante/atrás\n",
        "   * device: el tipo de dispositivo"
      ],
      "metadata": {
        "id": "E3FAOXYpAqmk"
      }
    },
    {
      "cell_type": "code",
      "source": [
        "z_dim = 64\n",
        "batch_size = 128\n",
        "device = 'cuda'"
      ],
      "metadata": {
        "id": "PQIjDjrYAthP"
      },
      "execution_count": 4,
      "outputs": []
    },
    {
      "cell_type": "markdown",
      "source": [
        "## Entrena a un Clasificador (Opcional)\n",
        "\n",
        "Puede entrenar su propio clasificador con este código, pero aquí se le proporciona uno preentrenado basado en esta arquitectura que puede cargar y usar en la siguiente sección."
      ],
      "metadata": {
        "id": "GgstbsdLAyBr"
      }
    },
    {
      "cell_type": "code",
      "source": [
        "# Puede ejecutar este código para entrenar su propio clasificador, pero se proporciona uno preentrenado\n",
        "# Si desea usar esto, simplemente ejecute \"train_classifier (nombre de archivo)\"\n",
        "# Para entrenar y guardar un clasificador en los índices de etiquetas para ese nombre de archivo\n",
        "def train_classifier(filename):\n",
        "    import seaborn as sns\n",
        "    import matplotlib.pyplot as plt\n",
        "\n",
        "    # Vas a apuntar a todas las clases, así que esa es la cantidad que aprenderá el clasificador.\n",
        "    label_indices = range(40)\n",
        "\n",
        "    n_epochs = 3\n",
        "    display_step = 500\n",
        "    lr = 0.001\n",
        "    beta_1 = 0.5\n",
        "    beta_2 = 0.999\n",
        "    image_size = 64\n",
        "\n",
        "    transform = transforms.Compose([\n",
        "        transforms.Resize(image_size),\n",
        "        transforms.CenterCrop(image_size),\n",
        "        transforms.ToTensor(),\n",
        "        transforms.Normalize((0.5, 0.5, 0.5), (0.5, 0.5, 0.5)),\n",
        "    ])\n",
        "\n",
        "    dataloader = DataLoader(\n",
        "        CelebA(\".\", split='train', download=True, transform=transform),\n",
        "        batch_size=batch_size,\n",
        "        shuffle=True)\n",
        "\n",
        "    classifier = Classifier(n_classes=len(label_indices)).to(device)\n",
        "    class_opt = torch.optim.Adam(classifier.parameters(), lr=lr, betas=(beta_1, beta_2))\n",
        "    criterion = nn.BCEWithLogitsLoss()\n",
        "\n",
        "    cur_step = 0\n",
        "    classifier_losses = []\n",
        "    # classifier_val_losses = []\n",
        "    for epoch in range(n_epochs):\n",
        "        # Dataloader returns the batches\n",
        "        for real, labels in tqdm(dataloader):\n",
        "            real = real.to(device)\n",
        "            labels = labels[:, label_indices].to(device).float()\n",
        "\n",
        "            class_opt.zero_grad()\n",
        "            class_pred = classifier(real)\n",
        "            class_loss = criterion(class_pred, labels)\n",
        "            class_loss.backward() # Calculate the gradients\n",
        "            class_opt.step() # Update the weights\n",
        "            classifier_losses += [class_loss.item()] # Keep track of the average classifier loss\n",
        "\n",
        "            ### Visualization code ###\n",
        "            if cur_step % display_step == 0 and cur_step > 0:\n",
        "                class_mean = sum(classifier_losses[-display_step:]) / display_step\n",
        "                print(f\"Step {cur_step}: Classifier loss: {class_mean}\")\n",
        "                step_bins = 20\n",
        "                x_axis = sorted([i * step_bins for i in range(len(classifier_losses) // step_bins)] * step_bins)\n",
        "                sns.lineplot(x_axis, classifier_losses[:len(x_axis)], label=\"Classifier Loss\")\n",
        "                plt.legend()\n",
        "                plt.show()\n",
        "                torch.save({\"classifier\": classifier.state_dict()}, filename)\n",
        "            cur_step += 1\n",
        "\n",
        "# Descomente la última línea para entrenar su propio clasificador: esta línea no funcionará en Coursera.\n",
        "# Si desea hacer esto, deberá descargarlo y ejecutarlo, idealmente usando una GPU.\n",
        "# train_classifier(\"nombre de archivo\")"
      ],
      "metadata": {
        "id": "TpPX44RhAzEV"
      },
      "execution_count": 5,
      "outputs": []
    },
    {
      "cell_type": "markdown",
      "source": [
        "## Cargando los modelos pre-entrenados\n",
        "\n",
        "Ahora puede cargar el generador preentrenado (entrenado en CelebA) y el clasificador usando el siguiente código. Si entrenó su propio clasificador, puede cargarlo aquí. Sin embargo, se sugiere que primero realice la tarea con la persona previamente entrenada."
      ],
      "metadata": {
        "id": "aQbV9JXnBFtL"
      }
    },
    {
      "cell_type": "code",
      "source": [
        "!git clone https://github.com/AbigailMRod/GANsDL.AI.git"
      ],
      "metadata": {
        "colab": {
          "base_uri": "https://localhost:8080/"
        },
        "id": "4LBQQXeqHz-t",
        "outputId": "c89e1dca-4547-46b7-f3f3-2c4bc547adb2"
      },
      "execution_count": 8,
      "outputs": [
        {
          "output_type": "stream",
          "name": "stdout",
          "text": [
            "Cloning into 'GANsDL.AI'...\n",
            "remote: Enumerating objects: 50, done.\u001b[K\n",
            "remote: Counting objects: 100% (50/50), done.\u001b[K\n",
            "remote: Compressing objects: 100% (46/46), done.\u001b[K\n",
            "remote: Total 50 (delta 10), reused 20 (delta 2), pack-reused 0\u001b[K\n",
            "Unpacking objects: 100% (50/50), done.\n"
          ]
        }
      ]
    },
    {
      "cell_type": "code",
      "source": [
        "import torch\n",
        "gen = Generator(z_dim).to(device)\n",
        "gen_dict = torch.load(\"/content/GANsDL.AI/models/pretrained_celeba.pth\", map_location=torch.device(device))[\"gen\"]\n",
        "gen.load_state_dict(gen_dict)\n",
        "gen.eval()\n",
        "\n",
        "n_classes = 40\n",
        "classifier = Classifier(n_classes=n_classes).to(device)\n",
        "class_dict = torch.load(\"/content/GANsDL.AI/models/pretrained_classifier.pth\", map_location=torch.device(device))[\"classifier\"]\n",
        "classifier.load_state_dict(class_dict)\n",
        "classifier.eval()\n",
        "print(\"Loaded the models!\")\n",
        "\n",
        "opt = torch.optim.Adam(classifier.parameters(), lr=0.01)"
      ],
      "metadata": {
        "colab": {
          "base_uri": "https://localhost:8080/"
        },
        "id": "566b0mWKBHoa",
        "outputId": "b932ad95-9c07-4fbe-8d3a-b8da15796e69"
      },
      "execution_count": 9,
      "outputs": [
        {
          "output_type": "stream",
          "name": "stdout",
          "text": [
            "Loaded the models!\n"
          ]
        }
      ]
    },
    {
      "cell_type": "markdown",
      "source": [
        "## Correlación de funciones\n",
        "Ahora puedes generar imágenes usando el generador. Al usar también el clasificador, generará imágenes con diferentes cantidades de la característica \"masculina\".\n",
        "\n",
        "Le invitamos a experimentar con otras funciones como la función de destino, pero se recomienda que primero revise el cuaderno tal como está antes de explorar."
      ],
      "metadata": {
        "id": "R_jkPSG-BOLT"
      }
    },
    {
      "cell_type": "code",
      "source": [
        "# Primero generas un montón de imágenes falsas con el generador.\n",
        "n_images = 256\n",
        "fake_image_history = []\n",
        "classification_history = []\n",
        "grad_steps = 30 # Cuántos pasos de gradiente tomar\n",
        "skip = 2 # Cuántos pasos de gradiente omitir en la visualización\n",
        "\n",
        "feature_names = [\"5oClockShadow\", \"ArchedEyebrows\", \"Attractive\", \"BagsUnderEyes\", \"Bald\", \"Bangs\",\n",
        "\"BigLips\", \"BigNose\", \"BlackHair\", \"BlondHair\", \"Blurry\", \"BrownHair\", \"BushyEyebrows\", \"Chubby\",\n",
        "\"DoubleChin\", \"Eyeglasses\", \"Goatee\", \"GrayHair\", \"HeavyMakeup\", \"HighCheekbones\", \"Male\", \n",
        "\"MouthSlightlyOpen\", \"Mustache\", \"NarrowEyes\", \"NoBeard\", \"OvalFace\", \"PaleSkin\", \"PointyNose\", \n",
        "\"RecedingHairline\", \"RosyCheeks\", \"Sideburn\", \"Smiling\", \"StraightHair\", \"WavyHair\", \"WearingEarrings\", \n",
        "\"WearingHat\", \"WearingLipstick\", \"WearingNecklace\", \"WearingNecktie\", \"Young\"]\n",
        "\n",
        "n_features = len(feature_names)\n",
        "# Establecer la característica de destino\n",
        "target_feature = \"Male\"\n",
        "target_indices = feature_names.index(target_feature)\n",
        "noise = get_noise(n_images, z_dim).to(device)\n",
        "new_noise = noise.clone().requires_grad_()\n",
        "starting_classifications = classifier(gen(new_noise)).cpu().detach()\n",
        "\n",
        "# Dirección aditiva (más de una característica)\n",
        "for i in range(grad_steps):\n",
        "    opt.zero_grad()\n",
        "    fake = gen(new_noise)\n",
        "    fake_image_history += [fake]\n",
        "    classifications = classifier(fake)\n",
        "    classification_history += [classifications.cpu().detach()]\n",
        "    fake_classes = classifications[:, target_indices].mean()\n",
        "    fake_classes.backward()\n",
        "    new_noise.data += new_noise.grad / grad_steps\n",
        "\n",
        "# Dirección sustractiva (menos de una característica)\n",
        "new_noise = noise.clone().requires_grad_()\n",
        "for i in range(grad_steps):\n",
        "    opt.zero_grad()\n",
        "    fake = gen(new_noise)\n",
        "    fake_image_history += [fake]\n",
        "    classifications = classifier(fake)\n",
        "    classification_history += [classifications.cpu().detach()]\n",
        "    fake_classes = classifications[:, target_indices].mean()\n",
        "    fake_classes.backward()\n",
        "    new_noise.data -= new_noise.grad / grad_steps\n",
        "\n",
        "classification_history = torch.stack(classification_history)"
      ],
      "metadata": {
        "id": "UWFuSkcrBUIO"
      },
      "execution_count": 10,
      "outputs": []
    },
    {
      "cell_type": "markdown",
      "source": [
        "Ahora ha generado muestras de imágenes, que tienen cantidades crecientes o decrecientes de la función de destino. Puede visualizar la forma en que eso afecta a otras características clasificadas. El eje x le mostrará la cantidad de cambio en su característica de destino y el eje y muestra cuánto cambian las otras características, según lo detecte el clasificador en esas imágenes. Juntos, podrán ver la covarianza de la \"masculinidad\" y otras características.\n",
        "\n",
        "Comenzaste con un conjunto de características que tienen asociaciones interesantes con \"masculinidad\", pero puedes cambiar las características en `otras_características` con otras de `feature_names`."
      ],
      "metadata": {
        "id": "hFyOLZ2cBmXF"
      }
    },
    {
      "cell_type": "code",
      "source": [
        "import seaborn as sns\n",
        "# Set the other features\n",
        "other_features = [\"Smiling\", \"Bald\", \"Young\", \"HeavyMakeup\", \"Attractive\"]\n",
        "classification_changes = (classification_history - starting_classifications[None, :, :]).numpy()\n",
        "for other_feature in other_features:\n",
        "    other_indices = feature_names.index(other_feature)\n",
        "    with sns.axes_style(\"darkgrid\"):\n",
        "        sns.regplot(\n",
        "            classification_changes[:, :, target_indices].reshape(-1), \n",
        "            classification_changes[:, :, other_indices].reshape(-1), \n",
        "            fit_reg=True,\n",
        "            truncate=True,\n",
        "            ci=99,\n",
        "            x_ci=99,\n",
        "            x_bins=len(classification_history),\n",
        "            label=other_feature\n",
        "        )\n",
        "plt.xlabel(target_feature)\n",
        "plt.ylabel(\"Other Feature\")\n",
        "plt.title(f\"Generator Biases: Features vs {target_feature}-ness\")\n",
        "plt.legend(loc=1)\n",
        "plt.show()"
      ],
      "metadata": {
        "colab": {
          "base_uri": "https://localhost:8080/",
          "height": 489
        },
        "id": "tlvFf8seBo__",
        "outputId": "a121d3d6-0699-4d8e-9152-457ef6328aa5"
      },
      "execution_count": 11,
      "outputs": [
        {
          "output_type": "stream",
          "name": "stderr",
          "text": [
            "/usr/local/lib/python3.7/dist-packages/seaborn/_decorators.py:43: FutureWarning: Pass the following variables as keyword args: x, y. From version 0.12, the only valid positional argument will be `data`, and passing other arguments without an explicit keyword will result in an error or misinterpretation.\n",
            "  FutureWarning\n",
            "/usr/local/lib/python3.7/dist-packages/seaborn/_decorators.py:43: FutureWarning: Pass the following variables as keyword args: x, y. From version 0.12, the only valid positional argument will be `data`, and passing other arguments without an explicit keyword will result in an error or misinterpretation.\n",
            "  FutureWarning\n",
            "/usr/local/lib/python3.7/dist-packages/seaborn/_decorators.py:43: FutureWarning: Pass the following variables as keyword args: x, y. From version 0.12, the only valid positional argument will be `data`, and passing other arguments without an explicit keyword will result in an error or misinterpretation.\n",
            "  FutureWarning\n",
            "/usr/local/lib/python3.7/dist-packages/seaborn/_decorators.py:43: FutureWarning: Pass the following variables as keyword args: x, y. From version 0.12, the only valid positional argument will be `data`, and passing other arguments without an explicit keyword will result in an error or misinterpretation.\n",
            "  FutureWarning\n",
            "/usr/local/lib/python3.7/dist-packages/seaborn/_decorators.py:43: FutureWarning: Pass the following variables as keyword args: x, y. From version 0.12, the only valid positional argument will be `data`, and passing other arguments without an explicit keyword will result in an error or misinterpretation.\n",
            "  FutureWarning\n"
          ]
        },
        {
          "output_type": "display_data",
          "data": {
            "text/plain": [
              "<Figure size 432x288 with 1 Axes>"
            ],
            "image/png": "[encoded data removed]"
          },
          "metadata": {}
        }
      ]
    },
    {
      "cell_type": "markdown",
      "source": [
        "Esta detección de correlación se puede utilizar para reducir el sesgo penalizando este tipo de correlación en la pérdida durante el entrenamiento del generador. Sin embargo, actualmente no existe una solución rigurosa y aceptada para eliminar el sesgo de las GAN. Un primer paso que puede tomar en la dirección correcta es antes de entrenar el modelo: asegúrese de que su conjunto de datos sea inclusivo y representativo, y considere cómo puede mitigar los sesgos resultantes del método de recopilación de datos que utilizó, por ejemplo, obtener un representante. etiquetadoras para su tarea.\n",
        "\n",
        "Es importante tener en cuenta que, como se destacó en la conferencia y por muchos investigadores, incluidos [Timnit Gebru y Emily Denton](https://sites.google.com/view/fatecv-tutorial/schedule), un conjunto de datos diverso por sí solo no es suficiente para eliminar el sesgo. Incluso diversos conjuntos de datos pueden reforzar los sesgos estructurales existentes simplemente capturando los sesgos sociales comunes. Mitigar estos sesgos es un área de investigación importante y activa.\n",
        "\n",
        "#### Nota sobre CelebA\n",
        "Es posible que haya notado que existen correlaciones obvias entre la característica que está utilizando, \"masculino\", y otras características aparentemente no relacionadas, por ejemplo, \"sonriente\" y \"joven\". Esto se debe a que las etiquetas del conjunto de datos de CelebA no consideraron seriamente la diversidad. Los datos representan los sesgos de sus etiquetadores, los creadores del conjunto de datos, los sesgos sociales como resultado del uso de un conjunto de datos basado en celebridades estadounidenses y muchos otros. Equipado con conocimiento sobre el sesgo, confiamos en que lo hará mejor en los futuros conjuntos de datos que cree."
      ],
      "metadata": {
        "id": "fuhXrvSaBxxb"
      }
    },
    {
      "cell_type": "markdown",
      "source": [
        "## Cuantificación\n",
        "Finalmente, también puede evaluar cuantitativamente el grado en que estos factores covarían. Dado un índice de destino, por ejemplo, correspondiente a \"masculino\", querrá devolver las otras características que covarían más con esa característica de destino. Querrá tener en cuenta las covarianzas positivas y negativas grandes, y querrá evitar devolver la característica de destino en su lista de características covariables (ya que una característica a menudo tendrá una alta covarianza consigo misma). Primero completará algunas funciones auxiliares, cada una de las cuales debe tener una o dos líneas de longitud."
      ],
      "metadata": {
        "id": "XqJw1zeiB5Qz"
      }
    },
    {
      "cell_type": "code",
      "source": [
        "from torch.distributions import MultivariateNormal\n",
        "def covariance_matrix_from_examples(examples):\n",
        "    \"\"\"\n",
        "    Función auxiliar para get_top_covariances para calcular una matriz de covarianza.\n",
        "     Parámetro: ejemplos: una lista de pasos correspondientes a muestras de forma (2 * grad_steps, n_images, n_features)\n",
        "     Devuelve: la matriz de covarianza (n_características, n_características) de los ejemplos\n",
        "    \"\"\"\n",
        "    # Hint: np.cov will be useful here - note the rowvar argument!\n",
        "    ### START CODE HERE ###\n",
        "    flattened_examples = examples.reshape(-1, examples.shape[-1])\n",
        "    return np.cov(flattened_examples, rowvar=False)\n",
        "    ### END CODE HERE ###\n",
        "mean = torch.Tensor([0, 0, 0, 0]) \n",
        "covariance = torch.Tensor( \n",
        "    [[10, 2, -0.5, -5],\n",
        "     [2, 11, 5, 4],\n",
        "     [-0.5, 5, 10, 2],\n",
        "     [-5, 4, 2, 11]]\n",
        ")\n",
        "samples = MultivariateNormal(mean, covariance).sample((60 * 128,))\n",
        "foo = samples.reshape(60, 128, samples.shape[-1]).numpy()\n",
        "assert np.all(np.abs(covariance_matrix_from_examples(foo) - covariance.numpy()) < 0.5)\n",
        "print(\"covariance_matrix_from_examples works!\")"
      ],
      "metadata": {
        "colab": {
          "base_uri": "https://localhost:8080/"
        },
        "id": "UkogZwNNDK8m",
        "outputId": "4c5306db-5222-4c87-ce51-cba305a3d463"
      },
      "execution_count": 12,
      "outputs": [
        {
          "output_type": "stream",
          "name": "stdout",
          "text": [
            "covariance_matrix_from_examples works!\n"
          ]
        }
      ]
    },
    {
      "cell_type": "markdown",
      "source": [
        "Ahora escribirá una función auxiliar para devolver los índices de una matriz numpy en orden de magnitud."
      ],
      "metadata": {
        "id": "KGakSE-ODW_g"
      }
    },
    {
      "cell_type": "code",
      "source": [
        "def get_top_magnitude_indices(values):\n",
        "    \"\"\"\n",
        "    Función auxiliar para get_top_covariances para obtener índices por magnitud.\n",
        "     Parámetro: valores, una lista de valores como una matriz numérica de formas (n_valores)\n",
        "     Devoluciones: matriz numpy de índices ordenados de mayor a menor por las magnitudes de sus valores correspondientes\n",
        "    \"\"\"\n",
        "    # Hint: This can be done in one or two lines using np.argsort and np.abs!\n",
        "    ### START CODE HERE ###\n",
        "    return np.argsort(np.abs(values))[::-1]\n",
        "    ### END CODE HERE ###\n",
        "    return top_indices\n",
        "assert get_top_magnitude_indices([3, 2, 1, 0]).tolist() == [0, 1, 2, 3]\n",
        "assert get_top_magnitude_indices([-2, 0, 1]).tolist() == [0, 2, 1]\n",
        "print(\"get_top_magnitude_indices works!\")"
      ],
      "metadata": {
        "colab": {
          "base_uri": "https://localhost:8080/"
        },
        "id": "9wIFPNs9DX5v",
        "outputId": "a94c3215-5772-4899-e3a8-2c6eb043f696"
      },
      "execution_count": 13,
      "outputs": [
        {
          "output_type": "stream",
          "name": "stdout",
          "text": [
            "get_top_magnitude_indices works!\n"
          ]
        }
      ]
    },
    {
      "cell_type": "markdown",
      "source": [
        "Ahora escribirá una función auxiliar para devolver una lista con un elemento eliminado por el valor, en un orden sin cambios. En este caso, no tendrá que eliminar ningún valor varias veces, así que no se preocupe por cómo maneja varios ejemplos."
      ],
      "metadata": {
        "id": "JeysNrk8Derw"
      }
    },
    {
      "cell_type": "code",
      "source": [
        "def remove_from_list(indices, index_to_remove):\n",
        "    \"\"\"\n",
        "    Helper function for get_top_covariances to remove an index from an array. \n",
        "    Parameter: indices, a list of indices as a numpy array of shape (n_indices)\n",
        "    Returns: the numpy array of indices in the same order without index_to_remove\n",
        "    \"\"\"\n",
        "    # Sugerencia: hay muchas maneras de hacer esto, pero no edite la lista en el lugar.\n",
        "     # Si no está muy familiarizado con la indexación de matrices, puede encontrar útil esta página:\n",
        "     # https://numpy.org/devdocs/reference/arrays.indexing.html (especialmente la indexación booleana)\n",
        "    ### START CODE HERE ###\n",
        "    new_indices = np.delete(indices, np.where(indices == index_to_remove))\n",
        "    ### END CODE HERE ###\n",
        "    return new_indices\n",
        "assert remove_from_list(np.array([3, 2, 1, 0]), 1).tolist() == [3, 2, 0]\n",
        "print(\"remove_from_list works!\")"
      ],
      "metadata": {
        "colab": {
          "base_uri": "https://localhost:8080/"
        },
        "id": "pfy9MiJWDfeu",
        "outputId": "13d7926e-3d26-414e-85ab-21d20e6b7404"
      },
      "execution_count": 14,
      "outputs": [
        {
          "output_type": "stream",
          "name": "stdout",
          "text": [
            "remove_from_list works!\n"
          ]
        }
      ]
    },
    {
      "cell_type": "markdown",
      "source": [
        "Ahora, puede juntar las funciones auxiliares anteriores."
      ],
      "metadata": {
        "id": "4RrSZ0HWDtPP"
      }
    },
    {
      "cell_type": "code",
      "source": [
        "# UNQ_C1 (UNIQUE CELL IDENTIFIER, DO NOT EDIT)\n",
        "# GRADED CELL: get_top_covariances\n",
        "def get_top_covariances(classification_changes, target_index, top_n=10):\n",
        "    '''\n",
        "    Función para obtener las n covarianzas principales: Dada una lista de cambios de clasificación\n",
        "     y el índice de la característica de destino, devuelve\n",
        "     (1) índices_relevantes: una lista o tensor (numpy o antorcha) de los índices correspondientes\n",
        "         a las n características que covarían más con el objetivo en términos de covarianza absoluta\n",
        "     (2) covarianzas_máximas: una lista o tensor de los grados en los que covarían.\n",
        "     Parámetros:\n",
        "         Classification_changes: cambios relativos en las clasificaciones de cada imagen generada\n",
        "           como resultado de la optimización de la función de destino (ver arriba para una visualización)\n",
        "         target_index: el índice de la característica de destino, un escalar\n",
        "         top_n: la mayor cantidad de elementos para devolver, el valor predeterminado es 10\n",
        "    '''\n",
        "    # Sugerencia: ¡No olvide que también le importan las covarianzas negativas!\n",
        "     # Tenga en cuenta que class_changes tiene una forma de (2 * grad_steps, n_images, n_features)\n",
        "     # donde n_características es el número de características medidas por el clasificador, y está buscando\n",
        "     # para la covarianza de las características basadas en las muestras (2 * grad_steps * n_images).\n",
        "    #### START CODE HERE ####\n",
        "    covariance_matrix = covariance_matrix_from_examples(classification_changes)\n",
        "    relevant_indices = remove_from_list(get_top_magnitude_indices(covariance_matrix[target_index, :]), target_index)[:top_n]\n",
        "    highest_covariances = covariance_matrix[:, relevant_indices][target_index]\n",
        "    #### END CODE HERE ####\n",
        "    return relevant_indices, highest_covariances"
      ],
      "metadata": {
        "id": "wWUALl72DuKT"
      },
      "execution_count": 15,
      "outputs": []
    },
    {
      "cell_type": "code",
      "source": [
        "# UNIT TEST\n",
        "from torch.distributions import MultivariateNormal\n",
        "mean = torch.Tensor([0, 0, 0, 0]) \n",
        "covariance = torch.Tensor( \n",
        "    [[10, 2, -0.5, -5],\n",
        "     [2, 11, 5, 4],\n",
        "     [-0.5, 5, 10, 2],\n",
        "     [-5, 4, 2, 11]]\n",
        ")\n",
        "independent_dist = MultivariateNormal(mean, covariance)\n",
        "samples = independent_dist.sample((60 * 128,))\n",
        "foo = samples.reshape(60, 128, samples.shape[-1])\n",
        "\n",
        "relevant_indices, highest_covariances = get_top_covariances(foo, 1, top_n=3)\n",
        "assert (tuple(relevant_indices) == (2, 3, 0)), \"Make sure you're getting the greatest, not the least covariances\"\n",
        "assert np.all(np.abs(highest_covariances - [5, 4, 2]) < 0.5 )\n",
        "\n",
        "relevant_indices, highest_covariances = get_top_covariances(foo, 0, top_n=3)\n",
        "assert (tuple(relevant_indices) == (3, 1, 2)), \"Make sure to consider the magnitude of negative covariances\"\n",
        "assert np.all(np.abs(highest_covariances - [-5, 2, -0.5]) < 0.5 )\n",
        "\n",
        "relevant_indices, highest_covariances = get_top_covariances(foo, 2, top_n=2)\n",
        "assert (tuple(relevant_indices) == (1, 3))\n",
        "assert np.all(np.abs(highest_covariances - [5, 2]) < 0.5 )\n",
        "\n",
        "relevant_indices, highest_covariances = get_top_covariances(foo, 3, top_n=2)\n",
        "assert (tuple(relevant_indices) == (0, 1))\n",
        "assert np.all(np.abs(highest_covariances - [-5, 4]) < 0.5 )\n",
        "\n",
        "print(\"All tests passed\")"
      ],
      "metadata": {
        "colab": {
          "base_uri": "https://localhost:8080/"
        },
        "id": "BffGf59XEBGq",
        "outputId": "5a6c37ba-1dcf-45ea-ddc2-17300788a93d"
      },
      "execution_count": 19,
      "outputs": [
        {
          "output_type": "stream",
          "name": "stdout",
          "text": [
            "All tests passed\n"
          ]
        }
      ]
    },
    {
      "cell_type": "code",
      "source": [
        "relevant_indices, highest_covariances = get_top_covariances(classification_changes, target_indices, top_n=10)\n",
        "print(relevant_indices)\n",
        "relevant_indices[9] == 34\n",
        "assert len(relevant_indices) == 10\n",
        "assert highest_covariances[8] - (-1.2418) < 1e-3\n",
        "for index, covariance in zip(relevant_indices, highest_covariances):\n",
        "    print(f\"{feature_names[index]}  {covariance:f}\")"
      ],
      "metadata": {
        "colab": {
          "base_uri": "https://localhost:8080/"
        },
        "id": "HgRy-YaBED8Z",
        "outputId": "d161b4c6-72e6-48ad-a856-fd9ce31d8765"
      },
      "execution_count": 21,
      "outputs": [
        {
          "output_type": "stream",
          "name": "stdout",
          "text": [
            "[36 18 24 30  0 22 16 38 34 29]\n",
            "WearingLipstick  -2.966299\n",
            "HeavyMakeup  -2.749323\n",
            "NoBeard  -2.547929\n",
            "Sideburn  2.094072\n",
            "5oClockShadow  2.091632\n",
            "Mustache  2.041807\n",
            "Goatee  1.880178\n",
            "WearingNecktie  1.644223\n",
            "WearingEarrings  -1.363953\n",
            "RosyCheeks  -1.274889\n"
          ]
        }
      ]
    },
    {
      "cell_type": "markdown",
      "source": [
        "Una de las principales fuentes de dificultad para identificar el sesgo y la equidad, es que hay muchas formas en las que podría definir razonablemente estos términos. Aquí hay tres formas que son computacionalmente útiles y [ampliamente referenciadas] (http://m-mitchell.com/papers/Adversarial_Bias_Mitigation.pdf). No son, de ninguna manera, las únicas definiciones de equidad (ver más detalles [aquí](https://developers.google.com/machine-learning/glossary/fairness)):\n",
        "\n",
        "\n",
        "1. Paridad demográfica: la distribución global de las predicciones realizadas por un predictor es la misma para diferentes valores de una clase protegida.\n",
        "2. Igualdad de probabilidades: siendo todo lo demás igual, la probabilidad de que usted prediga correctamente o incorrectamente es la misma para diferentes valores de una clase protegida.\n",
        "2. Igualdad de oportunidades: en igualdad de condiciones, la probabilidad de que prediga correctamente es la misma para diferentes valores de una clase protegida (más débil que la igualdad de probabilidades).\n",
        "\n",
        "Dado que las GAN también se utilizan para ayudar a los clasificadores posteriores (verá esto de primera mano en asignaciones futuras), estas definiciones de equidad afectarán y dependerán de su tarea posterior. Es importante trabajar para crear una GAN justa de acuerdo con la definición que elija. Perseguir cualquiera de ellos es prácticamente siempre mejor que etiquetar datos a ciegas, crear una GAN y probar sus generaciones."
      ],
      "metadata": {
        "id": "Gagc8giyEK8l"
      }
    }
  ]
}